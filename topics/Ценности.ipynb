{
 "cells": [
  {
   "cell_type": "code",
   "execution_count": 1,
   "metadata": {},
   "outputs": [],
   "source": [
    "import pyLDAvis.gensim\n",
    "#from pipeline import TopicModeller\n",
    "%load_ext autoreload\n",
    "%autoreload 2\n",
    "\n",
    "import warnings\n",
    "warnings.filterwarnings(\"ignore\")\n",
    "from gensim import corpora\n",
    "#pyLDAvis.enable_notebook()\n",
    "import pandas as pd\n",
    "import numpy as np\n",
    "from tqdm import tqdm_notebook\n",
    "from gensim.models.ldamodel import LdaModel\n",
    "from gensim.models import CoherenceModel, LdaMulticore\n",
    "#import tm_functions\n",
    "import matplotlib.pyplot as plt\n",
    "%matplotlib inline\n",
    "\n",
    "import re\n",
    "import tm_functions"
   ]
  },
  {
   "cell_type": "code",
   "execution_count": 2,
   "metadata": {},
   "outputs": [
    {
     "name": "stderr",
     "output_type": "stream",
     "text": [
      "[nltk_data] Downloading package stopwords to /home/midzay/nltk_data...\n",
      "[nltk_data]   Package stopwords is already up-to-date!\n"
     ]
    },
    {
     "data": {
      "text/plain": [
       "True"
      ]
     },
     "execution_count": 2,
     "metadata": {},
     "output_type": "execute_result"
    }
   ],
   "source": [
    "import nltk\n",
    "nltk.download('stopwords')"
   ]
  },
  {
   "cell_type": "code",
   "execution_count": 3,
   "metadata": {},
   "outputs": [],
   "source": [
    "import string\n",
    "from nltk.corpus import stopwords"
   ]
  },
  {
   "cell_type": "code",
   "execution_count": 4,
   "metadata": {},
   "outputs": [],
   "source": [
    "stop_words = stopwords.words('russian')\n",
    "STOPLIST = set(stop_words)\n",
    "SYMBOLS = \" \".join(string.punctuation).split(\" \") + [\"-\", \"...\", \"”\", \"”\",\"«\",\"»\"]"
   ]
  },
  {
   "cell_type": "code",
   "execution_count": 5,
   "metadata": {},
   "outputs": [],
   "source": [
    "with open('../../../../nlp/preprocessing/stopwords.txt') as sw:\n",
    "    text =sw.read().splitlines()\n",
    "for t in text:\n",
    "    STOPLIST.add(t)\n",
    "STOPLIST.add('—')"
   ]
  },
  {
   "cell_type": "code",
   "execution_count": 6,
   "metadata": {},
   "outputs": [],
   "source": [
    "PATH ='/home/midzay/Mlerning/DATASET/proj_news_viz/small/lemma/'\n",
    "file='cennosti.csv.bz2'"
   ]
  },
  {
   "cell_type": "code",
   "execution_count": 7,
   "metadata": {},
   "outputs": [
    {
     "data": {
      "text/html": [
       "<div>\n",
       "<style scoped>\n",
       "    .dataframe tbody tr th:only-of-type {\n",
       "        vertical-align: middle;\n",
       "    }\n",
       "\n",
       "    .dataframe tbody tr th {\n",
       "        vertical-align: top;\n",
       "    }\n",
       "\n",
       "    .dataframe thead th {\n",
       "        text-align: right;\n",
       "    }\n",
       "</style>\n",
       "<table border=\"1\" class=\"dataframe\">\n",
       "  <thead>\n",
       "    <tr style=\"text-align: right;\">\n",
       "      <th></th>\n",
       "      <th>1914-lenta/</th>\n",
       "      <th>url</th>\n",
       "      <th>edition</th>\n",
       "      <th>topics</th>\n",
       "      <th>title</th>\n",
       "      <th>text</th>\n",
       "      <th>topic</th>\n",
       "      <th>text_lema</th>\n",
       "    </tr>\n",
       "  </thead>\n",
       "  <tbody>\n",
       "    <tr>\n",
       "      <th>0</th>\n",
       "      <td>1999-10-06 12:00:00</td>\n",
       "      <td>https://lenta.ru/news/1999/10/06/sony/</td>\n",
       "      <td>NaN</td>\n",
       "      <td>Мир</td>\n",
       "      <td>Sony выдает лицензии на использование технолог...</td>\n",
       "      <td>Корпорация Sony выдала лицензии на использован...</td>\n",
       "      <td>Ценности</td>\n",
       "      <td>корпорация sony выдать лицензия использование ...</td>\n",
       "    </tr>\n",
       "    <tr>\n",
       "      <th>1</th>\n",
       "      <td>1999-10-07 12:00:00</td>\n",
       "      <td>https://lenta.ru/news/1999/10/07/vodka/</td>\n",
       "      <td>NaN</td>\n",
       "      <td>Экономика</td>\n",
       "      <td>В Уфе выпустили водку \"Беспохмельную\"</td>\n",
       "      <td>Уфимский спиртоводочный комбинат \"Золотой век\"...</td>\n",
       "      <td>Ценности</td>\n",
       "      <td>уфимский спиртоводочный комбинат золотой век о...</td>\n",
       "    </tr>\n",
       "    <tr>\n",
       "      <th>2</th>\n",
       "      <td>1999-10-15 12:00:00</td>\n",
       "      <td>https://lenta.ru/news/1999/10/15/sun/</td>\n",
       "      <td>NaN</td>\n",
       "      <td>Экономика</td>\n",
       "      <td>Доходы Sun возросли на 25%</td>\n",
       "      <td>Доходы Sun Microsystems Inc. за III квартал эт...</td>\n",
       "      <td>Ценности</td>\n",
       "      <td>доход sun microsystems inc iii квартал увеличи...</td>\n",
       "    </tr>\n",
       "    <tr>\n",
       "      <th>3</th>\n",
       "      <td>1999-10-25 12:00:00</td>\n",
       "      <td>https://lenta.ru/news/1999/10/25/primakov/</td>\n",
       "      <td>NaN</td>\n",
       "      <td>Россия</td>\n",
       "      <td>В Москве появились антипримаковские листовки</td>\n",
       "      <td>Листовки с карикатурами на Евгения Примакова и...</td>\n",
       "      <td>Ценности</td>\n",
       "      <td>листовка карикатура евгений примаков надпись п...</td>\n",
       "    </tr>\n",
       "    <tr>\n",
       "      <th>4</th>\n",
       "      <td>1999-12-03 12:00:00</td>\n",
       "      <td>https://lenta.ru/news/1999/12/03/film/</td>\n",
       "      <td>NaN</td>\n",
       "      <td>Интернет и СМИ</td>\n",
       "      <td>Три киношколы организуют виртуальную четвертую</td>\n",
       "      <td>Три учреждения, располагающиеся на трех разных...</td>\n",
       "      <td>Ценности</td>\n",
       "      <td>учреждение располагаться разный континент scho...</td>\n",
       "    </tr>\n",
       "  </tbody>\n",
       "</table>\n",
       "</div>"
      ],
      "text/plain": [
       "           1914-lenta/                                         url  edition  \\\n",
       "0  1999-10-06 12:00:00      https://lenta.ru/news/1999/10/06/sony/      NaN   \n",
       "1  1999-10-07 12:00:00     https://lenta.ru/news/1999/10/07/vodka/      NaN   \n",
       "2  1999-10-15 12:00:00       https://lenta.ru/news/1999/10/15/sun/      NaN   \n",
       "3  1999-10-25 12:00:00  https://lenta.ru/news/1999/10/25/primakov/      NaN   \n",
       "4  1999-12-03 12:00:00      https://lenta.ru/news/1999/12/03/film/      NaN   \n",
       "\n",
       "           topics                                              title  \\\n",
       "0             Мир  Sony выдает лицензии на использование технолог...   \n",
       "1       Экономика              В Уфе выпустили водку \"Беспохмельную\"   \n",
       "2       Экономика                         Доходы Sun возросли на 25%   \n",
       "3          Россия       В Москве появились антипримаковские листовки   \n",
       "4  Интернет и СМИ     Три киношколы организуют виртуальную четвертую   \n",
       "\n",
       "                                                text     topic  \\\n",
       "0  Корпорация Sony выдала лицензии на использован...  Ценности   \n",
       "1  Уфимский спиртоводочный комбинат \"Золотой век\"...  Ценности   \n",
       "2  Доходы Sun Microsystems Inc. за III квартал эт...  Ценности   \n",
       "3  Листовки с карикатурами на Евгения Примакова и...  Ценности   \n",
       "4  Три учреждения, располагающиеся на трех разных...  Ценности   \n",
       "\n",
       "                                           text_lema  \n",
       "0  корпорация sony выдать лицензия использование ...  \n",
       "1  уфимский спиртоводочный комбинат золотой век о...  \n",
       "2  доход sun microsystems inc iii квартал увеличи...  \n",
       "3  листовка карикатура евгений примаков надпись п...  \n",
       "4  учреждение располагаться разный континент scho...  "
      ]
     },
     "execution_count": 7,
     "metadata": {},
     "output_type": "execute_result"
    }
   ],
   "source": [
    "data = pd.read_csv(PATH + file , encoding='utf-8')\n",
    "data.head()"
   ]
  },
  {
   "cell_type": "code",
   "execution_count": 8,
   "metadata": {},
   "outputs": [],
   "source": [
    "def pre_proc(text):\n",
    "    tokens = [tok for tok in text.split() if tok not in STOPLIST]\n",
    "    return tokens\n",
    "    "
   ]
  },
  {
   "cell_type": "code",
   "execution_count": 9,
   "metadata": {},
   "outputs": [],
   "source": [
    "data['new_text']=data.text_lema.apply(pre_proc)"
   ]
  },
  {
   "cell_type": "code",
   "execution_count": 10,
   "metadata": {},
   "outputs": [
    {
     "data": {
      "text/html": [
       "<div>\n",
       "<style scoped>\n",
       "    .dataframe tbody tr th:only-of-type {\n",
       "        vertical-align: middle;\n",
       "    }\n",
       "\n",
       "    .dataframe tbody tr th {\n",
       "        vertical-align: top;\n",
       "    }\n",
       "\n",
       "    .dataframe thead th {\n",
       "        text-align: right;\n",
       "    }\n",
       "</style>\n",
       "<table border=\"1\" class=\"dataframe\">\n",
       "  <thead>\n",
       "    <tr style=\"text-align: right;\">\n",
       "      <th></th>\n",
       "      <th>1914-lenta/</th>\n",
       "      <th>url</th>\n",
       "      <th>edition</th>\n",
       "      <th>topics</th>\n",
       "      <th>title</th>\n",
       "      <th>text</th>\n",
       "      <th>topic</th>\n",
       "      <th>text_lema</th>\n",
       "      <th>new_text</th>\n",
       "    </tr>\n",
       "  </thead>\n",
       "  <tbody>\n",
       "    <tr>\n",
       "      <th>0</th>\n",
       "      <td>1999-10-06 12:00:00</td>\n",
       "      <td>https://lenta.ru/news/1999/10/06/sony/</td>\n",
       "      <td>NaN</td>\n",
       "      <td>Мир</td>\n",
       "      <td>Sony выдает лицензии на использование технолог...</td>\n",
       "      <td>Корпорация Sony выдала лицензии на использован...</td>\n",
       "      <td>Ценности</td>\n",
       "      <td>корпорация sony выдать лицензия использование ...</td>\n",
       "      <td>[корпорация, sony, выдать, лицензия, использов...</td>\n",
       "    </tr>\n",
       "    <tr>\n",
       "      <th>1</th>\n",
       "      <td>1999-10-07 12:00:00</td>\n",
       "      <td>https://lenta.ru/news/1999/10/07/vodka/</td>\n",
       "      <td>NaN</td>\n",
       "      <td>Экономика</td>\n",
       "      <td>В Уфе выпустили водку \"Беспохмельную\"</td>\n",
       "      <td>Уфимский спиртоводочный комбинат \"Золотой век\"...</td>\n",
       "      <td>Ценности</td>\n",
       "      <td>уфимский спиртоводочный комбинат золотой век о...</td>\n",
       "      <td>[уфимский, спиртоводочный, комбинат, золотой, ...</td>\n",
       "    </tr>\n",
       "    <tr>\n",
       "      <th>2</th>\n",
       "      <td>1999-10-15 12:00:00</td>\n",
       "      <td>https://lenta.ru/news/1999/10/15/sun/</td>\n",
       "      <td>NaN</td>\n",
       "      <td>Экономика</td>\n",
       "      <td>Доходы Sun возросли на 25%</td>\n",
       "      <td>Доходы Sun Microsystems Inc. за III квартал эт...</td>\n",
       "      <td>Ценности</td>\n",
       "      <td>доход sun microsystems inc iii квартал увеличи...</td>\n",
       "      <td>[доход, sun, microsystems, inc, iii, квартал, ...</td>\n",
       "    </tr>\n",
       "    <tr>\n",
       "      <th>3</th>\n",
       "      <td>1999-10-25 12:00:00</td>\n",
       "      <td>https://lenta.ru/news/1999/10/25/primakov/</td>\n",
       "      <td>NaN</td>\n",
       "      <td>Россия</td>\n",
       "      <td>В Москве появились антипримаковские листовки</td>\n",
       "      <td>Листовки с карикатурами на Евгения Примакова и...</td>\n",
       "      <td>Ценности</td>\n",
       "      <td>листовка карикатура евгений примаков надпись п...</td>\n",
       "      <td>[листовка, карикатура, евгений, примаков, надп...</td>\n",
       "    </tr>\n",
       "    <tr>\n",
       "      <th>4</th>\n",
       "      <td>1999-12-03 12:00:00</td>\n",
       "      <td>https://lenta.ru/news/1999/12/03/film/</td>\n",
       "      <td>NaN</td>\n",
       "      <td>Интернет и СМИ</td>\n",
       "      <td>Три киношколы организуют виртуальную четвертую</td>\n",
       "      <td>Три учреждения, располагающиеся на трех разных...</td>\n",
       "      <td>Ценности</td>\n",
       "      <td>учреждение располагаться разный континент scho...</td>\n",
       "      <td>[учреждение, располагаться, разный, континент,...</td>\n",
       "    </tr>\n",
       "  </tbody>\n",
       "</table>\n",
       "</div>"
      ],
      "text/plain": [
       "           1914-lenta/                                         url  edition  \\\n",
       "0  1999-10-06 12:00:00      https://lenta.ru/news/1999/10/06/sony/      NaN   \n",
       "1  1999-10-07 12:00:00     https://lenta.ru/news/1999/10/07/vodka/      NaN   \n",
       "2  1999-10-15 12:00:00       https://lenta.ru/news/1999/10/15/sun/      NaN   \n",
       "3  1999-10-25 12:00:00  https://lenta.ru/news/1999/10/25/primakov/      NaN   \n",
       "4  1999-12-03 12:00:00      https://lenta.ru/news/1999/12/03/film/      NaN   \n",
       "\n",
       "           topics                                              title  \\\n",
       "0             Мир  Sony выдает лицензии на использование технолог...   \n",
       "1       Экономика              В Уфе выпустили водку \"Беспохмельную\"   \n",
       "2       Экономика                         Доходы Sun возросли на 25%   \n",
       "3          Россия       В Москве появились антипримаковские листовки   \n",
       "4  Интернет и СМИ     Три киношколы организуют виртуальную четвертую   \n",
       "\n",
       "                                                text     topic  \\\n",
       "0  Корпорация Sony выдала лицензии на использован...  Ценности   \n",
       "1  Уфимский спиртоводочный комбинат \"Золотой век\"...  Ценности   \n",
       "2  Доходы Sun Microsystems Inc. за III квартал эт...  Ценности   \n",
       "3  Листовки с карикатурами на Евгения Примакова и...  Ценности   \n",
       "4  Три учреждения, располагающиеся на трех разных...  Ценности   \n",
       "\n",
       "                                           text_lema  \\\n",
       "0  корпорация sony выдать лицензия использование ...   \n",
       "1  уфимский спиртоводочный комбинат золотой век о...   \n",
       "2  доход sun microsystems inc iii квартал увеличи...   \n",
       "3  листовка карикатура евгений примаков надпись п...   \n",
       "4  учреждение располагаться разный континент scho...   \n",
       "\n",
       "                                            new_text  \n",
       "0  [корпорация, sony, выдать, лицензия, использов...  \n",
       "1  [уфимский, спиртоводочный, комбинат, золотой, ...  \n",
       "2  [доход, sun, microsystems, inc, iii, квартал, ...  \n",
       "3  [листовка, карикатура, евгений, примаков, надп...  \n",
       "4  [учреждение, располагаться, разный, континент,...  "
      ]
     },
     "execution_count": 10,
     "metadata": {},
     "output_type": "execute_result"
    }
   ],
   "source": [
    "data.head()"
   ]
  },
  {
   "cell_type": "markdown",
   "metadata": {},
   "source": [
    "### Модель"
   ]
  },
  {
   "cell_type": "code",
   "execution_count": 12,
   "metadata": {},
   "outputs": [
    {
     "name": "stdout",
     "output_type": "stream",
     "text": [
      "CPU times: user 1.39 s, sys: 4.11 ms, total: 1.4 s\n",
      "Wall time: 1.41 s\n"
     ]
    }
   ],
   "source": [
    "%%time\n",
    "dictionary = corpora.Dictionary(data['new_text'].values)"
   ]
  },
  {
   "cell_type": "code",
   "execution_count": 13,
   "metadata": {},
   "outputs": [
    {
     "name": "stdout",
     "output_type": "stream",
     "text": [
      "CPU times: user 1.07 s, sys: 55.7 ms, total: 1.13 s\n",
      "Wall time: 1.16 s\n"
     ]
    }
   ],
   "source": [
    "%%time\n",
    "doc_term_matrix = [dictionary.doc2bow(doc) for doc in data['new_text'].values]"
   ]
  },
  {
   "cell_type": "code",
   "execution_count": null,
   "metadata": {},
   "outputs": [],
   "source": []
  },
  {
   "cell_type": "code",
   "execution_count": null,
   "metadata": {},
   "outputs": [],
   "source": []
  },
  {
   "cell_type": "code",
   "execution_count": null,
   "metadata": {},
   "outputs": [],
   "source": []
  },
  {
   "cell_type": "code",
   "execution_count": 14,
   "metadata": {},
   "outputs": [
    {
     "name": "stdout",
     "output_type": "stream",
     "text": [
      "Perplexity: -8.616479720378171\n",
      "Coherence Score: 0.5907428567164666\n",
      "CPU times: user 4min 21s, sys: 596 ms, total: 4min 21s\n",
      "Wall time: 3min 58s\n"
     ]
    }
   ],
   "source": [
    "%%time\n",
    "ldamodel1 = LdaModel(doc_term_matrix, num_topics=5, id2word = dictionary, passes=10, alpha='auto', eta=None, random_state=42)\n",
    "\n",
    "perplexity = ldamodel1.log_perplexity(doc_term_matrix)\n",
    "coherence_model_lda = CoherenceModel(model=ldamodel1, texts=data['new_text'].values, dictionary=dictionary, coherence='c_v')\n",
    "coherence_lda = coherence_model_lda.get_coherence()\n",
    "print(f'Perplexity: {perplexity}')\n",
    "print(f'Coherence Score: {coherence_lda}')"
   ]
  },
  {
   "cell_type": "code",
   "execution_count": null,
   "metadata": {},
   "outputs": [],
   "source": []
  },
  {
   "cell_type": "code",
   "execution_count": null,
   "metadata": {},
   "outputs": [],
   "source": []
  },
  {
   "cell_type": "markdown",
   "metadata": {},
   "source": [
    "### Топ-топики в текстах"
   ]
  },
  {
   "cell_type": "code",
   "execution_count": 15,
   "metadata": {
    "scrolled": false
   },
   "outputs": [
    {
     "name": "stdout",
     "output_type": "stream",
     "text": [
      "CPU times: user 39.3 s, sys: 80.2 ms, total: 39.4 s\n",
      "Wall time: 39.6 s\n"
     ]
    }
   ],
   "source": [
    "%%time\n",
    "df_topic_sents_keywords = tm_functions.format_topics_sentences(ldamodel=ldamodel1, corpus=doc_term_matrix,\n",
    "                                                               texts=data['new_text'].values)\n",
    "\n",
    "df_dominant_topic = df_topic_sents_keywords.reset_index()\n",
    "df_dominant_topic.columns = ['Document_No', 'Dominant_Topic', 'Topic_Perc_Contrib', 'Keywords', 'Text']\n",
    "\n"
   ]
  },
  {
   "cell_type": "code",
   "execution_count": 16,
   "metadata": {},
   "outputs": [
    {
     "data": {
      "text/html": [
       "<div>\n",
       "<style scoped>\n",
       "    .dataframe tbody tr th:only-of-type {\n",
       "        vertical-align: middle;\n",
       "    }\n",
       "\n",
       "    .dataframe tbody tr th {\n",
       "        vertical-align: top;\n",
       "    }\n",
       "\n",
       "    .dataframe thead th {\n",
       "        text-align: right;\n",
       "    }\n",
       "</style>\n",
       "<table border=\"1\" class=\"dataframe\">\n",
       "  <thead>\n",
       "    <tr style=\"text-align: right;\">\n",
       "      <th></th>\n",
       "      <th>Document_No</th>\n",
       "      <th>Dominant_Topic</th>\n",
       "      <th>Topic_Perc_Contrib</th>\n",
       "      <th>Keywords</th>\n",
       "      <th>Text</th>\n",
       "    </tr>\n",
       "  </thead>\n",
       "  <tbody>\n",
       "    <tr>\n",
       "      <th>0</th>\n",
       "      <td>0</td>\n",
       "      <td>1.0</td>\n",
       "      <td>0.9952</td>\n",
       "      <td>модель, миллион</td>\n",
       "      <td>[корпорация, sony, выдать, лицензия, использов...</td>\n",
       "    </tr>\n",
       "    <tr>\n",
       "      <th>1</th>\n",
       "      <td>1</td>\n",
       "      <td>1.0</td>\n",
       "      <td>0.4403</td>\n",
       "      <td>новый</td>\n",
       "      <td>[уфимский, спиртоводочный, комбинат, золотой, ...</td>\n",
       "    </tr>\n",
       "    <tr>\n",
       "      <th>2</th>\n",
       "      <td>2</td>\n",
       "      <td>1.0</td>\n",
       "      <td>0.9338</td>\n",
       "      <td>миллион, доллар, продажа</td>\n",
       "      <td>[доход, sun, microsystems, inc, iii, квартал, ...</td>\n",
       "    </tr>\n",
       "    <tr>\n",
       "      <th>3</th>\n",
       "      <td>3</td>\n",
       "      <td>0.0</td>\n",
       "      <td>0.5996</td>\n",
       "      <td></td>\n",
       "      <td>[листовка, карикатура, евгений, примаков, надп...</td>\n",
       "    </tr>\n",
       "    <tr>\n",
       "      <th>4</th>\n",
       "      <td>4</td>\n",
       "      <td>0.0</td>\n",
       "      <td>0.3273</td>\n",
       "      <td></td>\n",
       "      <td>[учреждение, располагаться, разный, континент,...</td>\n",
       "    </tr>\n",
       "    <tr>\n",
       "      <th>5</th>\n",
       "      <td>5</td>\n",
       "      <td>1.0</td>\n",
       "      <td>0.7648</td>\n",
       "      <td></td>\n",
       "      <td>[строительный, фирма, mabetex, engineering, бе...</td>\n",
       "    </tr>\n",
       "    <tr>\n",
       "      <th>6</th>\n",
       "      <td>6</td>\n",
       "      <td>1.0</td>\n",
       "      <td>0.8928</td>\n",
       "      <td>автомобиль, модель</td>\n",
       "      <td>[иоанн-павел, ii, концерн, fiat, подарок, рожд...</td>\n",
       "    </tr>\n",
       "    <tr>\n",
       "      <th>7</th>\n",
       "      <td>7</td>\n",
       "      <td>1.0</td>\n",
       "      <td>0.9643</td>\n",
       "      <td>автомобиль, новый, тысяча</td>\n",
       "      <td>[28, оао, горьковский, автомобильный, завод, о...</td>\n",
       "    </tr>\n",
       "    <tr>\n",
       "      <th>8</th>\n",
       "      <td>8</td>\n",
       "      <td>1.0</td>\n",
       "      <td>0.7280</td>\n",
       "      <td>модель, новый, доллар, продажа</td>\n",
       "      <td>[корпорация, sony, выпустить, меньший, мера, н...</td>\n",
       "    </tr>\n",
       "    <tr>\n",
       "      <th>9</th>\n",
       "      <td>9</td>\n",
       "      <td>1.0</td>\n",
       "      <td>0.7253</td>\n",
       "      <td>автомобиль, модель, машина, новый, тысяча, мил...</td>\n",
       "      <td>[британский, управление, торговля, промышленно...</td>\n",
       "    </tr>\n",
       "    <tr>\n",
       "      <th>10</th>\n",
       "      <td>10</td>\n",
       "      <td>0.0</td>\n",
       "      <td>0.6865</td>\n",
       "      <td>the, платье</td>\n",
       "      <td>[известный, критик, западный, мода, мистер, бл...</td>\n",
       "    </tr>\n",
       "    <tr>\n",
       "      <th>11</th>\n",
       "      <td>11</td>\n",
       "      <td>1.0</td>\n",
       "      <td>0.8210</td>\n",
       "      <td>миллион, доллар, продажа</td>\n",
       "      <td>[аукцион, sotheby, s, выставить, продажа, редк...</td>\n",
       "    </tr>\n",
       "    <tr>\n",
       "      <th>12</th>\n",
       "      <td>12</td>\n",
       "      <td>1.0</td>\n",
       "      <td>0.8749</td>\n",
       "      <td>автомобиль, тысяча, марка, миллион, доллар, пр...</td>\n",
       "      <td>[немецкий, корпорация, bmw, заключить, соглаше...</td>\n",
       "    </tr>\n",
       "    <tr>\n",
       "      <th>13</th>\n",
       "      <td>13</td>\n",
       "      <td>1.0</td>\n",
       "      <td>0.7583</td>\n",
       "      <td>автомобиль, машина</td>\n",
       "      <td>[российский, столица, задержать, бизнесмен, об...</td>\n",
       "    </tr>\n",
       "    <tr>\n",
       "      <th>14</th>\n",
       "      <td>14</td>\n",
       "      <td>2.0</td>\n",
       "      <td>0.5050</td>\n",
       "      <td></td>\n",
       "      <td>[victoria, s, secret, выпускать, шикарный, жен...</td>\n",
       "    </tr>\n",
       "  </tbody>\n",
       "</table>\n",
       "</div>"
      ],
      "text/plain": [
       "    Document_No  Dominant_Topic  Topic_Perc_Contrib  \\\n",
       "0             0             1.0              0.9952   \n",
       "1             1             1.0              0.4403   \n",
       "2             2             1.0              0.9338   \n",
       "3             3             0.0              0.5996   \n",
       "4             4             0.0              0.3273   \n",
       "5             5             1.0              0.7648   \n",
       "6             6             1.0              0.8928   \n",
       "7             7             1.0              0.9643   \n",
       "8             8             1.0              0.7280   \n",
       "9             9             1.0              0.7253   \n",
       "10           10             0.0              0.6865   \n",
       "11           11             1.0              0.8210   \n",
       "12           12             1.0              0.8749   \n",
       "13           13             1.0              0.7583   \n",
       "14           14             2.0              0.5050   \n",
       "\n",
       "                                             Keywords  \\\n",
       "0                                     модель, миллион   \n",
       "1                                               новый   \n",
       "2                            миллион, доллар, продажа   \n",
       "3                                                       \n",
       "4                                                       \n",
       "5                                                       \n",
       "6                                  автомобиль, модель   \n",
       "7                           автомобиль, новый, тысяча   \n",
       "8                      модель, новый, доллар, продажа   \n",
       "9   автомобиль, модель, машина, новый, тысяча, мил...   \n",
       "10                                        the, платье   \n",
       "11                           миллион, доллар, продажа   \n",
       "12  автомобиль, тысяча, марка, миллион, доллар, пр...   \n",
       "13                                 автомобиль, машина   \n",
       "14                                                      \n",
       "\n",
       "                                                 Text  \n",
       "0   [корпорация, sony, выдать, лицензия, использов...  \n",
       "1   [уфимский, спиртоводочный, комбинат, золотой, ...  \n",
       "2   [доход, sun, microsystems, inc, iii, квартал, ...  \n",
       "3   [листовка, карикатура, евгений, примаков, надп...  \n",
       "4   [учреждение, располагаться, разный, континент,...  \n",
       "5   [строительный, фирма, mabetex, engineering, бе...  \n",
       "6   [иоанн-павел, ii, концерн, fiat, подарок, рожд...  \n",
       "7   [28, оао, горьковский, автомобильный, завод, о...  \n",
       "8   [корпорация, sony, выпустить, меньший, мера, н...  \n",
       "9   [британский, управление, торговля, промышленно...  \n",
       "10  [известный, критик, западный, мода, мистер, бл...  \n",
       "11  [аукцион, sotheby, s, выставить, продажа, редк...  \n",
       "12  [немецкий, корпорация, bmw, заключить, соглаше...  \n",
       "13  [российский, столица, задержать, бизнесмен, об...  \n",
       "14  [victoria, s, secret, выпускать, шикарный, жен...  "
      ]
     },
     "execution_count": 16,
     "metadata": {},
     "output_type": "execute_result"
    }
   ],
   "source": [
    "df_dominant_topic.head(15)"
   ]
  },
  {
   "cell_type": "markdown",
   "metadata": {},
   "source": [
    "### Статистика по топикам"
   ]
  },
  {
   "cell_type": "code",
   "execution_count": 17,
   "metadata": {
    "scrolled": false
   },
   "outputs": [
    {
     "name": "stdout",
     "output_type": "stream",
     "text": [
      "CPU times: user 27.1 ms, sys: 0 ns, total: 27.1 ms\n",
      "Wall time: 32.1 ms\n"
     ]
    }
   ],
   "source": [
    "%%time\n",
    "top_indices = df_topic_sents_keywords.groupby('Dominant_Topic')['Perc_Contribution'].nlargest(1).reset_index()['level_1']\n",
    "topic_counts = df_topic_sents_keywords['Dominant_Topic'].value_counts()\n",
    "\n",
    "# Percentage of Documents for Each Topic\n",
    "topic_contribution = round(topic_counts/topic_counts.sum(), 4)\n",
    "\n",
    "# Topic Number and Keywords\n",
    "condition = df_topic_sents_keywords.index.isin(top_indices)\n",
    "topic_num_keywords = df_topic_sents_keywords[condition][['Dominant_Topic', 'Topic_Keywords']].reset_index(drop=True)\n",
    "\n",
    "# Concatenate Column wise\n",
    "df_dominant_topics = pd.concat([topic_num_keywords, topic_counts, topic_contribution], axis=1)\n",
    "\n",
    "# Change Column names\n",
    "df_dominant_topics.columns = ['Dominant_Topic', 'Topic_Keywords', 'Num_Documents', 'Perc_Documents']\n",
    "\n",
    "# Show\n",
    "df_dominant_topics"
   ]
  },
  {
   "cell_type": "markdown",
   "metadata": {},
   "source": [
    "### График по времени"
   ]
  },
  {
   "cell_type": "code",
   "execution_count": 18,
   "metadata": {},
   "outputs": [
    {
     "name": "stdout",
     "output_type": "stream",
     "text": [
      "CPU times: user 22.2 s, sys: 67.9 ms, total: 22.2 s\n",
      "Wall time: 22.6 s\n"
     ]
    }
   ],
   "source": [
    "%%time\n",
    "data['date'] = data['url'].apply(lambda x: pd.to_datetime('-'.join(x.split('/')[4:7])))\n",
    "data['year_month'] = data['date'].values.astype('datetime64[M]')\n",
    "\n",
    "data['topics'] = [ldamodel1.get_document_topics(i) for i in doc_term_matrix]\n",
    "data['topics_dict'] = data['topics'].apply(lambda x: {i[0]: i[1] for i in x})\n",
    "\n",
    "for i in range(ldamodel1.num_topics):\n",
    "    data['topic_' + str(i)] = data['topics_dict'].apply(lambda x: x[i] if i in x.keys() else 0)\n",
    "    \n",
    "data = data.sort_values('year_month')\n",
    "\n",
    "data.loc[data['year_month'] == '1914-09-01 00:00:00', 'year_month'] = pd.Timestamp(year=2014, month=9, day=1, hour=0)\n",
    "\n",
    "data.to_csv('/home/midzay/Mlerning/DATASET/proj_news_viz/small/update/cennosti_update.csv.bz2',compression='bz2', index=False)"
   ]
  },
  {
   "cell_type": "code",
   "execution_count": 19,
   "metadata": {
    "scrolled": true
   },
   "outputs": [],
   "source": [
    "topic_cols = [col for col in data.columns if 'topic_' in col]\n",
    "a = data.groupby(['year_month'])[topic_cols].mean()#.plot(stacked=True, figsize=(12, 8))"
   ]
  },
  {
   "cell_type": "code",
   "execution_count": 20,
   "metadata": {
    "scrolled": false
   },
   "outputs": [
    {
     "data": {
      "image/png": "[encoded data removed]",
      "text/plain": [
       "<Figure size 864x576 with 1 Axes>"
      ]
     },
     "metadata": {
      "needs_background": "light"
     },
     "output_type": "display_data"
    }
   ],
   "source": [
    "fig, ax = plt.subplots(figsize=(12, 8))\n",
    "ax.stackplot(a.index, a.T.values, labels=list(a.columns))\n",
    "plt.legend(loc='upper right', bbox_to_anchor=(1.2, 1.0))\n",
    "plt.show()"
   ]
  },
  {
   "cell_type": "markdown",
   "metadata": {},
   "source": [
    "### Слова в топиках"
   ]
  },
  {
   "cell_type": "code",
   "execution_count": 21,
   "metadata": {
    "scrolled": true
   },
   "outputs": [
    {
     "data": {
      "text/plain": [
       "[(0,\n",
       "  '0.006*\"модель\" + 0.005*\"the\" + 0.005*\"2018\" + 0.005*\"фотография\" + 0.005*\"женщина\" + 0.004*\"доллар\" + 0.004*\"платье\" + 0.004*\"американский\" + 0.004*\"одежда\" + 0.004*\"кардашьян\"'),\n",
       " (1,\n",
       "  '0.016*\"автомобиль\" + 0.008*\"модель\" + 0.006*\"машина\" + 0.006*\"новый\" + 0.005*\"тысяча\" + 0.004*\"марка\" + 0.004*\"миллион\" + 0.004*\"доллар\" + 0.004*\"продажа\" + 0.004*\"километр\"'),\n",
       " (2,\n",
       "  '0.013*\"дом\" + 0.012*\"бренд\" + 0.009*\"коллекция\" + 0.007*\"представить\" + 0.007*\"марка\" + 0.006*\"основать\" + 0.006*\"новый\" + 0.006*\"аромат\" + 0.006*\"модный\" + 0.005*\"французский\"'),\n",
       " (3,\n",
       "  '0.016*\"коллекция\" + 0.015*\"бренд\" + 0.013*\"одежда\" + 0.008*\"представить\" + 0.008*\"обувь\" + 0.008*\"дизайнер\" + 0.007*\"марка\" + 0.006*\"модель\" + 0.006*\"аксессуар\" + 0.005*\"лента\"'),\n",
       " (4,\n",
       "  '0.026*\"часы\" + 0.015*\"модель\" + 0.010*\"корпус\" + 0.008*\"часовой\" + 0.007*\"золото\" + 0.007*\"бренд\" + 0.007*\"швейцарский\" + 0.006*\"представить\" + 0.006*\"лента\" + 0.006*\"ру\"')]"
      ]
     },
     "execution_count": 21,
     "metadata": {},
     "output_type": "execute_result"
    }
   ],
   "source": [
    "ldamodel1.print_topics()"
   ]
  },
  {
   "cell_type": "markdown",
   "metadata": {},
   "source": [
    "### Топ слова."
   ]
  },
  {
   "cell_type": "code",
   "execution_count": 22,
   "metadata": {},
   "outputs": [
    {
     "data": {
      "application/vnd.jupyter.widget-view+json": {
       "model_id": "cb418d9a7ccb4c0f8cb7a72c142072d3",
       "version_major": 2,
       "version_minor": 0
      },
      "text/plain": [
       "HBox(children=(IntProgress(value=0, max=8420), HTML(value='')))"
      ]
     },
     "metadata": {},
     "output_type": "display_data"
    },
    {
     "name": "stdout",
     "output_type": "stream",
     "text": [
      "\n"
     ]
    }
   ],
   "source": [
    "word_counts = {}\n",
    "for s in tqdm_notebook(doc_term_matrix):\n",
    "    for w in s:\n",
    "        if w[0] not in word_counts:\n",
    "            word_counts[w[0]] = w[1]\n",
    "        else:\n",
    "            word_counts[w[0]] += w[1]"
   ]
  },
  {
   "cell_type": "code",
   "execution_count": 23,
   "metadata": {},
   "outputs": [],
   "source": [
    "sorted_word_counts = sorted(word_counts.items(), key=lambda x: x[1], reverse=True)"
   ]
  },
  {
   "cell_type": "code",
   "execution_count": 24,
   "metadata": {},
   "outputs": [
    {
     "name": "stdout",
     "output_type": "stream",
     "text": [
      "бренд - 7855 times.\n",
      "коллекция - 6818 times.\n",
      "модель - 6711 times.\n",
      "одежда - 5475 times.\n",
      "представить - 5209 times.\n",
      "марка - 4604 times.\n",
      "новый - 4500 times.\n",
      "дом - 4180 times.\n",
      "часы - 3660 times.\n",
      "основать - 3568 times.\n",
      "автомобиль - 3498 times.\n",
      "лента - 3437 times.\n",
      "ру - 3292 times.\n",
      "дизайнер - 3033 times.\n",
      "выпустить - 2752 times.\n",
      "аксессуар - 2752 times.\n",
      "обувь - 2681 times.\n",
      "доллар - 2605 times.\n",
      "модный - 2570 times.\n",
      "продажа - 2522 times.\n",
      "американский - 2500 times.\n",
      "тысяча - 2322 times.\n",
      "создать - 2054 times.\n",
      "линейка - 1967 times.\n",
      "поступить - 1959 times.\n",
      "магазин - 1922 times.\n",
      "цена - 1890 times.\n",
      "итальянский - 1815 times.\n",
      "the - 1797 times.\n",
      "редакция - 1792 times.\n",
      "мода - 1776 times.\n",
      "s - 1751 times.\n",
      "пресс-релиз - 1751 times.\n",
      "кожа - 1656 times.\n",
      "появиться - 1652 times.\n",
      "британский - 1636 times.\n",
      "директор - 1630 times.\n",
      "дизайн - 1601 times.\n",
      "французский - 1597 times.\n",
      "новое - 1569 times.\n",
      "войти - 1564 times.\n",
      "россия - 1531 times.\n",
      "производство - 1525 times.\n",
      "новинка - 1505 times.\n",
      "женский - 1502 times.\n",
      "российский - 1500 times.\n",
      "выполнить - 1467 times.\n",
      "2016 - 1396 times.\n",
      "мир - 1395 times.\n",
      "специализироваться - 1386 times.\n"
     ]
    }
   ],
   "source": [
    "for w in sorted_word_counts[:50]:\n",
    "    print(f'{dictionary[w[0]]} - {w[1]} times.')"
   ]
  },
  {
   "cell_type": "code",
   "execution_count": null,
   "metadata": {},
   "outputs": [],
   "source": []
  },
  {
   "cell_type": "code",
   "execution_count": null,
   "metadata": {},
   "outputs": [],
   "source": []
  },
  {
   "cell_type": "code",
   "execution_count": null,
   "metadata": {},
   "outputs": [],
   "source": []
  }
 ],
 "metadata": {
  "kernelspec": {
   "display_name": "Python 3",
   "language": "python",
   "name": "python3"
  },
  "language_info": {
   "codemirror_mode": {
    "name": "ipython",
    "version": 3
   },
   "file_extension": ".py",
   "mimetype": "text/x-python",
   "name": "python",
   "nbconvert_exporter": "python",
   "pygments_lexer": "ipython3",
   "version": "3.7.1"
  }
 },
 "nbformat": 4,
 "nbformat_minor": 2
}
