{
 "cells": [
  {
   "cell_type": "code",
   "execution_count": 1,
   "metadata": {},
   "outputs": [],
   "source": [
    "import pyLDAvis.gensim\n",
    "#from pipeline import TopicModeller\n",
    "%load_ext autoreload\n",
    "%autoreload 2\n",
    "\n",
    "import warnings\n",
    "warnings.filterwarnings(\"ignore\")\n",
    "from gensim import corpora\n",
    "#pyLDAvis.enable_notebook()\n",
    "import pandas as pd\n",
    "import numpy as np\n",
    "from tqdm import tqdm_notebook\n",
    "from gensim.models.ldamodel import LdaModel\n",
    "from gensim.models import CoherenceModel, LdaMulticore\n",
    "#import tm_functions\n",
    "import matplotlib.pyplot as plt\n",
    "%matplotlib inline\n",
    "\n",
    "import re\n",
    "import tm_functions"
   ]
  },
  {
   "cell_type": "code",
   "execution_count": 2,
   "metadata": {},
   "outputs": [
    {
     "name": "stderr",
     "output_type": "stream",
     "text": [
      "[nltk_data] Downloading package stopwords to /home/midzay/nltk_data...\n",
      "[nltk_data]   Package stopwords is already up-to-date!\n"
     ]
    },
    {
     "data": {
      "text/plain": [
       "True"
      ]
     },
     "execution_count": 2,
     "metadata": {},
     "output_type": "execute_result"
    }
   ],
   "source": [
    "import nltk\n",
    "nltk.download('stopwords')"
   ]
  },
  {
   "cell_type": "code",
   "execution_count": 3,
   "metadata": {},
   "outputs": [],
   "source": [
    "import string\n",
    "from nltk.corpus import stopwords"
   ]
  },
  {
   "cell_type": "code",
   "execution_count": 4,
   "metadata": {},
   "outputs": [],
   "source": [
    "stop_words = stopwords.words('russian')\n",
    "STOPLIST = set(stop_words)\n",
    "SYMBOLS = \" \".join(string.punctuation).split(\" \") + [\"-\", \"...\", \"”\", \"”\",\"«\",\"»\"]"
   ]
  },
  {
   "cell_type": "code",
   "execution_count": 5,
   "metadata": {},
   "outputs": [],
   "source": [
    "with open('../../../../nlp/preprocessing/stopwords.txt') as sw:\n",
    "    text =sw.read().splitlines()\n",
    "for t in text:\n",
    "    STOPLIST.add(t)\n",
    "STOPLIST.add('—')"
   ]
  },
  {
   "cell_type": "code",
   "execution_count": 6,
   "metadata": {},
   "outputs": [],
   "source": [
    "PATH ='/home/midzay/Mlerning/DATASET/proj_news_viz/small/lemma/'\n",
    "file='iz jizni.csv.bz2'"
   ]
  },
  {
   "cell_type": "code",
   "execution_count": 7,
   "metadata": {},
   "outputs": [
    {
     "data": {
      "text/html": [
       "<div>\n",
       "<style scoped>\n",
       "    .dataframe tbody tr th:only-of-type {\n",
       "        vertical-align: middle;\n",
       "    }\n",
       "\n",
       "    .dataframe tbody tr th {\n",
       "        vertical-align: top;\n",
       "    }\n",
       "\n",
       "    .dataframe thead th {\n",
       "        text-align: right;\n",
       "    }\n",
       "</style>\n",
       "<table border=\"1\" class=\"dataframe\">\n",
       "  <thead>\n",
       "    <tr style=\"text-align: right;\">\n",
       "      <th></th>\n",
       "      <th>1914-lenta/</th>\n",
       "      <th>url</th>\n",
       "      <th>edition</th>\n",
       "      <th>topics</th>\n",
       "      <th>title</th>\n",
       "      <th>text</th>\n",
       "      <th>topic</th>\n",
       "      <th>text_lema</th>\n",
       "    </tr>\n",
       "  </thead>\n",
       "  <tbody>\n",
       "    <tr>\n",
       "      <th>0</th>\n",
       "      <td>1999-10-06 12:00:00</td>\n",
       "      <td>https://lenta.ru/news/1999/10/06/dino/</td>\n",
       "      <td>NaN</td>\n",
       "      <td>Мир</td>\n",
       "      <td>Похищено уникальное яйцо динозавра</td>\n",
       "      <td>Неизвестные злоумышленники похитили из музея г...</td>\n",
       "      <td>Из жизни</td>\n",
       "      <td>неизвестный злоумышленник похитить музей герма...</td>\n",
       "    </tr>\n",
       "    <tr>\n",
       "      <th>1</th>\n",
       "      <td>1999-10-11 12:00:00</td>\n",
       "      <td>https://lenta.ru/news/1999/10/11/boxing/</td>\n",
       "      <td>NaN</td>\n",
       "      <td>Мир</td>\n",
       "      <td>Боксерский поединок между мужчиной и женщиной ...</td>\n",
       "      <td>36-летняя Маргарет Макгрегор объявлена победит...</td>\n",
       "      <td>Из жизни</td>\n",
       "      <td>36-летний маргарета макгрегор объявить победит...</td>\n",
       "    </tr>\n",
       "    <tr>\n",
       "      <th>2</th>\n",
       "      <td>1999-10-12 12:00:00</td>\n",
       "      <td>https://lenta.ru/news/1999/10/12/6bln/</td>\n",
       "      <td>NaN</td>\n",
       "      <td>Мир</td>\n",
       "      <td>6-миллиардный ребенок родился в Сараево и ждет...</td>\n",
       "      <td>По расчетам экспертов ООН, сегодня численность...</td>\n",
       "      <td>Из жизни</td>\n",
       "      <td>расчёт эксперт оон численность население земля...</td>\n",
       "    </tr>\n",
       "    <tr>\n",
       "      <th>3</th>\n",
       "      <td>1999-10-13 12:00:00</td>\n",
       "      <td>https://lenta.ru/news/1999/10/13/food/</td>\n",
       "      <td>NaN</td>\n",
       "      <td>Экономика</td>\n",
       "      <td>16% человечества потребляет 80% всех ресурсов</td>\n",
       "      <td>Институт мировых природных ресурсов США считае...</td>\n",
       "      <td>Из жизни</td>\n",
       "      <td>институт мировой природный ресурс сша 16 насел...</td>\n",
       "    </tr>\n",
       "    <tr>\n",
       "      <th>4</th>\n",
       "      <td>1999-10-14 12:00:00</td>\n",
       "      <td>https://lenta.ru/news/1999/10/14/account/</td>\n",
       "      <td>NaN</td>\n",
       "      <td>Россия</td>\n",
       "      <td>Banca del Gottardo давал гарантии под кредитны...</td>\n",
       "      <td>Марко Стрюн (Marco Streun), сотрудник юридичес...</td>\n",
       "      <td>Из жизни</td>\n",
       "      <td>маркий стрюн marco streun сотрудник юридически...</td>\n",
       "    </tr>\n",
       "  </tbody>\n",
       "</table>\n",
       "</div>"
      ],
      "text/plain": [
       "           1914-lenta/                                        url  edition  \\\n",
       "0  1999-10-06 12:00:00     https://lenta.ru/news/1999/10/06/dino/      NaN   \n",
       "1  1999-10-11 12:00:00   https://lenta.ru/news/1999/10/11/boxing/      NaN   \n",
       "2  1999-10-12 12:00:00     https://lenta.ru/news/1999/10/12/6bln/      NaN   \n",
       "3  1999-10-13 12:00:00     https://lenta.ru/news/1999/10/13/food/      NaN   \n",
       "4  1999-10-14 12:00:00  https://lenta.ru/news/1999/10/14/account/      NaN   \n",
       "\n",
       "      topics                                              title  \\\n",
       "0        Мир                 Похищено уникальное яйцо динозавра   \n",
       "1        Мир  Боксерский поединок между мужчиной и женщиной ...   \n",
       "2        Мир  6-миллиардный ребенок родился в Сараево и ждет...   \n",
       "3  Экономика      16% человечества потребляет 80% всех ресурсов   \n",
       "4     Россия  Banca del Gottardo давал гарантии под кредитны...   \n",
       "\n",
       "                                                text     topic  \\\n",
       "0  Неизвестные злоумышленники похитили из музея г...  Из жизни   \n",
       "1  36-летняя Маргарет Макгрегор объявлена победит...  Из жизни   \n",
       "2  По расчетам экспертов ООН, сегодня численность...  Из жизни   \n",
       "3  Институт мировых природных ресурсов США считае...  Из жизни   \n",
       "4  Марко Стрюн (Marco Streun), сотрудник юридичес...  Из жизни   \n",
       "\n",
       "                                           text_lema  \n",
       "0  неизвестный злоумышленник похитить музей герма...  \n",
       "1  36-летний маргарета макгрегор объявить победит...  \n",
       "2  расчёт эксперт оон численность население земля...  \n",
       "3  институт мировой природный ресурс сша 16 насел...  \n",
       "4  маркий стрюн marco streun сотрудник юридически...  "
      ]
     },
     "execution_count": 7,
     "metadata": {},
     "output_type": "execute_result"
    }
   ],
   "source": [
    "data = pd.read_csv(PATH + file , encoding='utf-8')\n",
    "data.head()"
   ]
  },
  {
   "cell_type": "code",
   "execution_count": 8,
   "metadata": {},
   "outputs": [],
   "source": [
    "def pre_proc(text):\n",
    "    tokens = [tok for tok in text.split() if tok not in STOPLIST]\n",
    "    return tokens\n",
    "    "
   ]
  },
  {
   "cell_type": "code",
   "execution_count": 9,
   "metadata": {},
   "outputs": [],
   "source": [
    "data['new_text']=data.text_lema.apply(pre_proc)"
   ]
  },
  {
   "cell_type": "code",
   "execution_count": 10,
   "metadata": {},
   "outputs": [
    {
     "data": {
      "text/html": [
       "<div>\n",
       "<style scoped>\n",
       "    .dataframe tbody tr th:only-of-type {\n",
       "        vertical-align: middle;\n",
       "    }\n",
       "\n",
       "    .dataframe tbody tr th {\n",
       "        vertical-align: top;\n",
       "    }\n",
       "\n",
       "    .dataframe thead th {\n",
       "        text-align: right;\n",
       "    }\n",
       "</style>\n",
       "<table border=\"1\" class=\"dataframe\">\n",
       "  <thead>\n",
       "    <tr style=\"text-align: right;\">\n",
       "      <th></th>\n",
       "      <th>1914-lenta/</th>\n",
       "      <th>url</th>\n",
       "      <th>edition</th>\n",
       "      <th>topics</th>\n",
       "      <th>title</th>\n",
       "      <th>text</th>\n",
       "      <th>topic</th>\n",
       "      <th>text_lema</th>\n",
       "      <th>new_text</th>\n",
       "    </tr>\n",
       "  </thead>\n",
       "  <tbody>\n",
       "    <tr>\n",
       "      <th>0</th>\n",
       "      <td>1999-10-06 12:00:00</td>\n",
       "      <td>https://lenta.ru/news/1999/10/06/dino/</td>\n",
       "      <td>NaN</td>\n",
       "      <td>Мир</td>\n",
       "      <td>Похищено уникальное яйцо динозавра</td>\n",
       "      <td>Неизвестные злоумышленники похитили из музея г...</td>\n",
       "      <td>Из жизни</td>\n",
       "      <td>неизвестный злоумышленник похитить музей герма...</td>\n",
       "      <td>[неизвестный, злоумышленник, похитить, музей, ...</td>\n",
       "    </tr>\n",
       "    <tr>\n",
       "      <th>1</th>\n",
       "      <td>1999-10-11 12:00:00</td>\n",
       "      <td>https://lenta.ru/news/1999/10/11/boxing/</td>\n",
       "      <td>NaN</td>\n",
       "      <td>Мир</td>\n",
       "      <td>Боксерский поединок между мужчиной и женщиной ...</td>\n",
       "      <td>36-летняя Маргарет Макгрегор объявлена победит...</td>\n",
       "      <td>Из жизни</td>\n",
       "      <td>36-летний маргарета макгрегор объявить победит...</td>\n",
       "      <td>[36-летний, маргарета, макгрегор, объявить, по...</td>\n",
       "    </tr>\n",
       "    <tr>\n",
       "      <th>2</th>\n",
       "      <td>1999-10-12 12:00:00</td>\n",
       "      <td>https://lenta.ru/news/1999/10/12/6bln/</td>\n",
       "      <td>NaN</td>\n",
       "      <td>Мир</td>\n",
       "      <td>6-миллиардный ребенок родился в Сараево и ждет...</td>\n",
       "      <td>По расчетам экспертов ООН, сегодня численность...</td>\n",
       "      <td>Из жизни</td>\n",
       "      <td>расчёт эксперт оон численность население земля...</td>\n",
       "      <td>[расчёт, эксперт, оон, численность, население,...</td>\n",
       "    </tr>\n",
       "    <tr>\n",
       "      <th>3</th>\n",
       "      <td>1999-10-13 12:00:00</td>\n",
       "      <td>https://lenta.ru/news/1999/10/13/food/</td>\n",
       "      <td>NaN</td>\n",
       "      <td>Экономика</td>\n",
       "      <td>16% человечества потребляет 80% всех ресурсов</td>\n",
       "      <td>Институт мировых природных ресурсов США считае...</td>\n",
       "      <td>Из жизни</td>\n",
       "      <td>институт мировой природный ресурс сша 16 насел...</td>\n",
       "      <td>[институт, мировой, природный, ресурс, сша, 16...</td>\n",
       "    </tr>\n",
       "    <tr>\n",
       "      <th>4</th>\n",
       "      <td>1999-10-14 12:00:00</td>\n",
       "      <td>https://lenta.ru/news/1999/10/14/account/</td>\n",
       "      <td>NaN</td>\n",
       "      <td>Россия</td>\n",
       "      <td>Banca del Gottardo давал гарантии под кредитны...</td>\n",
       "      <td>Марко Стрюн (Marco Streun), сотрудник юридичес...</td>\n",
       "      <td>Из жизни</td>\n",
       "      <td>маркий стрюн marco streun сотрудник юридически...</td>\n",
       "      <td>[маркий, стрюн, marco, streun, сотрудник, юрид...</td>\n",
       "    </tr>\n",
       "  </tbody>\n",
       "</table>\n",
       "</div>"
      ],
      "text/plain": [
       "           1914-lenta/                                        url  edition  \\\n",
       "0  1999-10-06 12:00:00     https://lenta.ru/news/1999/10/06/dino/      NaN   \n",
       "1  1999-10-11 12:00:00   https://lenta.ru/news/1999/10/11/boxing/      NaN   \n",
       "2  1999-10-12 12:00:00     https://lenta.ru/news/1999/10/12/6bln/      NaN   \n",
       "3  1999-10-13 12:00:00     https://lenta.ru/news/1999/10/13/food/      NaN   \n",
       "4  1999-10-14 12:00:00  https://lenta.ru/news/1999/10/14/account/      NaN   \n",
       "\n",
       "      topics                                              title  \\\n",
       "0        Мир                 Похищено уникальное яйцо динозавра   \n",
       "1        Мир  Боксерский поединок между мужчиной и женщиной ...   \n",
       "2        Мир  6-миллиардный ребенок родился в Сараево и ждет...   \n",
       "3  Экономика      16% человечества потребляет 80% всех ресурсов   \n",
       "4     Россия  Banca del Gottardo давал гарантии под кредитны...   \n",
       "\n",
       "                                                text     topic  \\\n",
       "0  Неизвестные злоумышленники похитили из музея г...  Из жизни   \n",
       "1  36-летняя Маргарет Макгрегор объявлена победит...  Из жизни   \n",
       "2  По расчетам экспертов ООН, сегодня численность...  Из жизни   \n",
       "3  Институт мировых природных ресурсов США считае...  Из жизни   \n",
       "4  Марко Стрюн (Marco Streun), сотрудник юридичес...  Из жизни   \n",
       "\n",
       "                                           text_lema  \\\n",
       "0  неизвестный злоумышленник похитить музей герма...   \n",
       "1  36-летний маргарета макгрегор объявить победит...   \n",
       "2  расчёт эксперт оон численность население земля...   \n",
       "3  институт мировой природный ресурс сша 16 насел...   \n",
       "4  маркий стрюн marco streun сотрудник юридически...   \n",
       "\n",
       "                                            new_text  \n",
       "0  [неизвестный, злоумышленник, похитить, музей, ...  \n",
       "1  [36-летний, маргарета, макгрегор, объявить, по...  \n",
       "2  [расчёт, эксперт, оон, численность, население,...  \n",
       "3  [институт, мировой, природный, ресурс, сша, 16...  \n",
       "4  [маркий, стрюн, marco, streun, сотрудник, юрид...  "
      ]
     },
     "execution_count": 10,
     "metadata": {},
     "output_type": "execute_result"
    }
   ],
   "source": [
    "data.head()"
   ]
  },
  {
   "cell_type": "markdown",
   "metadata": {},
   "source": [
    "### Модель"
   ]
  },
  {
   "cell_type": "code",
   "execution_count": 11,
   "metadata": {},
   "outputs": [
    {
     "name": "stdout",
     "output_type": "stream",
     "text": [
      "CPU times: user 3.81 s, sys: 5.64 ms, total: 3.81 s\n",
      "Wall time: 3.91 s\n"
     ]
    }
   ],
   "source": [
    "%%time\n",
    "dictionary = corpora.Dictionary(data['new_text'].values)"
   ]
  },
  {
   "cell_type": "code",
   "execution_count": 12,
   "metadata": {},
   "outputs": [
    {
     "name": "stdout",
     "output_type": "stream",
     "text": [
      "CPU times: user 3.16 s, sys: 95.9 ms, total: 3.26 s\n",
      "Wall time: 3.38 s\n"
     ]
    }
   ],
   "source": [
    "%%time\n",
    "doc_term_matrix = [dictionary.doc2bow(doc) for doc in data['new_text'].values]"
   ]
  },
  {
   "cell_type": "code",
   "execution_count": null,
   "metadata": {},
   "outputs": [],
   "source": []
  },
  {
   "cell_type": "code",
   "execution_count": 13,
   "metadata": {},
   "outputs": [],
   "source": [
    "num_topic=8"
   ]
  },
  {
   "cell_type": "code",
   "execution_count": null,
   "metadata": {},
   "outputs": [],
   "source": []
  },
  {
   "cell_type": "code",
   "execution_count": 14,
   "metadata": {},
   "outputs": [
    {
     "name": "stdout",
     "output_type": "stream",
     "text": [
      "Perplexity: -9.123549493070156\n",
      "Coherence Score: 0.4451761969317819\n",
      "CPU times: user 13min 29s, sys: 1.74 s, total: 13min 30s\n",
      "Wall time: 11min 58s\n"
     ]
    }
   ],
   "source": [
    "%%time\n",
    "ldamodel1 = LdaModel(doc_term_matrix, num_topics=num_topic, id2word = dictionary, passes=10, alpha='auto', eta=None, random_state=42)\n",
    "\n",
    "perplexity = ldamodel1.log_perplexity(doc_term_matrix)\n",
    "coherence_model_lda = CoherenceModel(model=ldamodel1, texts=data['new_text'].values, dictionary=dictionary, coherence='c_v')\n",
    "coherence_lda = coherence_model_lda.get_coherence()\n",
    "print(f'Perplexity: {perplexity}')\n",
    "print(f'Coherence Score: {coherence_lda}')"
   ]
  },
  {
   "cell_type": "code",
   "execution_count": null,
   "metadata": {},
   "outputs": [],
   "source": []
  },
  {
   "cell_type": "code",
   "execution_count": null,
   "metadata": {},
   "outputs": [],
   "source": []
  },
  {
   "cell_type": "markdown",
   "metadata": {},
   "source": [
    "### Топ-топики в текстах"
   ]
  },
  {
   "cell_type": "code",
   "execution_count": 15,
   "metadata": {
    "scrolled": false
   },
   "outputs": [
    {
     "name": "stdout",
     "output_type": "stream",
     "text": [
      "CPU times: user 2min 1s, sys: 232 ms, total: 2min 1s\n",
      "Wall time: 2min 2s\n"
     ]
    }
   ],
   "source": [
    "%%time\n",
    "df_topic_sents_keywords = tm_functions.format_topics_sentences(ldamodel=ldamodel1, corpus=doc_term_matrix,\n",
    "                                                               texts=data['new_text'].values)\n",
    "\n",
    "df_dominant_topic = df_topic_sents_keywords.reset_index()\n",
    "df_dominant_topic.columns = ['Document_No', 'Dominant_Topic', 'Topic_Perc_Contrib', 'Keywords', 'Text']\n",
    "\n"
   ]
  },
  {
   "cell_type": "code",
   "execution_count": 16,
   "metadata": {},
   "outputs": [
    {
     "data": {
      "text/html": [
       "<div>\n",
       "<style scoped>\n",
       "    .dataframe tbody tr th:only-of-type {\n",
       "        vertical-align: middle;\n",
       "    }\n",
       "\n",
       "    .dataframe tbody tr th {\n",
       "        vertical-align: top;\n",
       "    }\n",
       "\n",
       "    .dataframe thead th {\n",
       "        text-align: right;\n",
       "    }\n",
       "</style>\n",
       "<table border=\"1\" class=\"dataframe\">\n",
       "  <thead>\n",
       "    <tr style=\"text-align: right;\">\n",
       "      <th></th>\n",
       "      <th>Document_No</th>\n",
       "      <th>Dominant_Topic</th>\n",
       "      <th>Topic_Perc_Contrib</th>\n",
       "      <th>Keywords</th>\n",
       "      <th>Text</th>\n",
       "    </tr>\n",
       "  </thead>\n",
       "  <tbody>\n",
       "    <tr>\n",
       "      <th>0</th>\n",
       "      <td>0</td>\n",
       "      <td>2.0</td>\n",
       "      <td>0.6619</td>\n",
       "      <td>тысяча, миллион, полицейский</td>\n",
       "      <td>[неизвестный, злоумышленник, похитить, музей, ...</td>\n",
       "    </tr>\n",
       "    <tr>\n",
       "      <th>1</th>\n",
       "      <td>1</td>\n",
       "      <td>5.0</td>\n",
       "      <td>0.7033</td>\n",
       "      <td>женщина, мужчина, жизнь</td>\n",
       "      <td>[36-летний, маргарета, макгрегор, объявить, по...</td>\n",
       "    </tr>\n",
       "    <tr>\n",
       "      <th>2</th>\n",
       "      <td>2</td>\n",
       "      <td>0.0</td>\n",
       "      <td>0.4835</td>\n",
       "      <td>тысяча</td>\n",
       "      <td>[расчёт, эксперт, оон, численность, население,...</td>\n",
       "    </tr>\n",
       "    <tr>\n",
       "      <th>3</th>\n",
       "      <td>3</td>\n",
       "      <td>1.0</td>\n",
       "      <td>0.4872</td>\n",
       "      <td>житель</td>\n",
       "      <td>[институт, мировой, природный, ресурс, сша, 16...</td>\n",
       "    </tr>\n",
       "    <tr>\n",
       "      <th>4</th>\n",
       "      <td>4</td>\n",
       "      <td>4.0</td>\n",
       "      <td>0.4305</td>\n",
       "      <td>россия</td>\n",
       "      <td>[маркий, стрюн, marco, streun, сотрудник, юрид...</td>\n",
       "    </tr>\n",
       "    <tr>\n",
       "      <th>5</th>\n",
       "      <td>5</td>\n",
       "      <td>3.0</td>\n",
       "      <td>0.3521</td>\n",
       "      <td>миллион, американский, трамп</td>\n",
       "      <td>[долгий, судебный, спорый, решить, судьба, сим...</td>\n",
       "    </tr>\n",
       "    <tr>\n",
       "      <th>6</th>\n",
       "      <td>6</td>\n",
       "      <td>1.0</td>\n",
       "      <td>0.6426</td>\n",
       "      <td>тысяча</td>\n",
       "      <td>[клиент, amazon, com, иметь, возможность, поку...</td>\n",
       "    </tr>\n",
       "    <tr>\n",
       "      <th>7</th>\n",
       "      <td>7</td>\n",
       "      <td>5.0</td>\n",
       "      <td>0.4045</td>\n",
       "      <td>сын</td>\n",
       "      <td>[брюссель, состояться, свадьба, бельгийский, н...</td>\n",
       "    </tr>\n",
       "    <tr>\n",
       "      <th>8</th>\n",
       "      <td>8</td>\n",
       "      <td>2.0</td>\n",
       "      <td>0.5959</td>\n",
       "      <td>доллар</td>\n",
       "      <td>[рождество, британец, штурмовать, магазин, пок...</td>\n",
       "    </tr>\n",
       "    <tr>\n",
       "      <th>9</th>\n",
       "      <td>9</td>\n",
       "      <td>2.0</td>\n",
       "      <td>0.6718</td>\n",
       "      <td>тысяча, штат</td>\n",
       "      <td>[ошибка-2000, показать, уесть, де, муан, амери...</td>\n",
       "    </tr>\n",
       "    <tr>\n",
       "      <th>10</th>\n",
       "      <td>10</td>\n",
       "      <td>3.0</td>\n",
       "      <td>0.2779</td>\n",
       "      <td></td>\n",
       "      <td>[агентство, политический, новость, апн, планир...</td>\n",
       "    </tr>\n",
       "    <tr>\n",
       "      <th>11</th>\n",
       "      <td>11</td>\n",
       "      <td>2.0</td>\n",
       "      <td>0.4885</td>\n",
       "      <td>тысяча, штат, около</td>\n",
       "      <td>[крупный, американский, телекоммуникационный, ...</td>\n",
       "    </tr>\n",
       "    <tr>\n",
       "      <th>12</th>\n",
       "      <td>12</td>\n",
       "      <td>7.0</td>\n",
       "      <td>0.4871</td>\n",
       "      <td>инцидент</td>\n",
       "      <td>[застрять, залив, побережье, аргентина, китёно...</td>\n",
       "    </tr>\n",
       "    <tr>\n",
       "      <th>13</th>\n",
       "      <td>13</td>\n",
       "      <td>4.0</td>\n",
       "      <td>0.3326</td>\n",
       "      <td></td>\n",
       "      <td>[знаменитый, символ, брюссель, писать, мальчик...</td>\n",
       "    </tr>\n",
       "    <tr>\n",
       "      <th>14</th>\n",
       "      <td>14</td>\n",
       "      <td>3.0</td>\n",
       "      <td>0.8888</td>\n",
       "      <td>the</td>\n",
       "      <td>[минувший, ночью, состояться, ежегодный, вруче...</td>\n",
       "    </tr>\n",
       "  </tbody>\n",
       "</table>\n",
       "</div>"
      ],
      "text/plain": [
       "    Document_No  Dominant_Topic  Topic_Perc_Contrib  \\\n",
       "0             0             2.0              0.6619   \n",
       "1             1             5.0              0.7033   \n",
       "2             2             0.0              0.4835   \n",
       "3             3             1.0              0.4872   \n",
       "4             4             4.0              0.4305   \n",
       "5             5             3.0              0.3521   \n",
       "6             6             1.0              0.6426   \n",
       "7             7             5.0              0.4045   \n",
       "8             8             2.0              0.5959   \n",
       "9             9             2.0              0.6718   \n",
       "10           10             3.0              0.2779   \n",
       "11           11             2.0              0.4885   \n",
       "12           12             7.0              0.4871   \n",
       "13           13             4.0              0.3326   \n",
       "14           14             3.0              0.8888   \n",
       "\n",
       "                        Keywords  \\\n",
       "0   тысяча, миллион, полицейский   \n",
       "1        женщина, мужчина, жизнь   \n",
       "2                         тысяча   \n",
       "3                         житель   \n",
       "4                         россия   \n",
       "5   миллион, американский, трамп   \n",
       "6                         тысяча   \n",
       "7                            сын   \n",
       "8                         доллар   \n",
       "9                   тысяча, штат   \n",
       "10                                 \n",
       "11           тысяча, штат, около   \n",
       "12                      инцидент   \n",
       "13                                 \n",
       "14                           the   \n",
       "\n",
       "                                                 Text  \n",
       "0   [неизвестный, злоумышленник, похитить, музей, ...  \n",
       "1   [36-летний, маргарета, макгрегор, объявить, по...  \n",
       "2   [расчёт, эксперт, оон, численность, население,...  \n",
       "3   [институт, мировой, природный, ресурс, сша, 16...  \n",
       "4   [маркий, стрюн, marco, streun, сотрудник, юрид...  \n",
       "5   [долгий, судебный, спорый, решить, судьба, сим...  \n",
       "6   [клиент, amazon, com, иметь, возможность, поку...  \n",
       "7   [брюссель, состояться, свадьба, бельгийский, н...  \n",
       "8   [рождество, британец, штурмовать, магазин, пок...  \n",
       "9   [ошибка-2000, показать, уесть, де, муан, амери...  \n",
       "10  [агентство, политический, новость, апн, планир...  \n",
       "11  [крупный, американский, телекоммуникационный, ...  \n",
       "12  [застрять, залив, побережье, аргентина, китёно...  \n",
       "13  [знаменитый, символ, брюссель, писать, мальчик...  \n",
       "14  [минувший, ночью, состояться, ежегодный, вруче...  "
      ]
     },
     "execution_count": 16,
     "metadata": {},
     "output_type": "execute_result"
    }
   ],
   "source": [
    "df_dominant_topic.head(15)"
   ]
  },
  {
   "cell_type": "markdown",
   "metadata": {},
   "source": [
    "### Статистика по топикам"
   ]
  },
  {
   "cell_type": "code",
   "execution_count": 17,
   "metadata": {
    "scrolled": false
   },
   "outputs": [
    {
     "name": "stdout",
     "output_type": "stream",
     "text": [
      "CPU times: user 34.6 ms, sys: 0 ns, total: 34.6 ms\n",
      "Wall time: 37 ms\n"
     ]
    }
   ],
   "source": [
    "%%time\n",
    "top_indices = df_topic_sents_keywords.groupby('Dominant_Topic')['Perc_Contribution'].nlargest(1).reset_index()['level_1']\n",
    "topic_counts = df_topic_sents_keywords['Dominant_Topic'].value_counts()\n",
    "\n",
    "# Percentage of Documents for Each Topic\n",
    "topic_contribution = round(topic_counts/topic_counts.sum(), 4)\n",
    "\n",
    "# Topic Number and Keywords\n",
    "condition = df_topic_sents_keywords.index.isin(top_indices)\n",
    "topic_num_keywords = df_topic_sents_keywords[condition][['Dominant_Topic', 'Topic_Keywords']].reset_index(drop=True)\n",
    "\n",
    "# Concatenate Column wise\n",
    "df_dominant_topics = pd.concat([topic_num_keywords, topic_counts, topic_contribution], axis=1)\n",
    "\n",
    "# Change Column names\n",
    "df_dominant_topics.columns = ['Dominant_Topic', 'Topic_Keywords', 'Num_Documents', 'Perc_Documents']\n",
    "\n",
    "# Show\n",
    "df_dominant_topics"
   ]
  },
  {
   "cell_type": "markdown",
   "metadata": {},
   "source": [
    "### График по времени"
   ]
  },
  {
   "cell_type": "code",
   "execution_count": 18,
   "metadata": {},
   "outputs": [
    {
     "name": "stdout",
     "output_type": "stream",
     "text": [
      "CPU times: user 1min 3s, sys: 112 ms, total: 1min 3s\n",
      "Wall time: 1min 3s\n"
     ]
    }
   ],
   "source": [
    "%%time\n",
    "data['date'] = data['url'].apply(lambda x: pd.to_datetime('-'.join(x.split('/')[4:7])))\n",
    "data['year_month'] = data['date'].values.astype('datetime64[M]')\n",
    "\n",
    "data['topics'] = [ldamodel1.get_document_topics(i) for i in doc_term_matrix]\n",
    "data['topics_dict'] = data['topics'].apply(lambda x: {i[0]: i[1] for i in x})\n",
    "\n",
    "for i in range(ldamodel1.num_topics):\n",
    "    data['topic_' + str(i)] = data['topics_dict'].apply(lambda x: x[i] if i in x.keys() else 0)\n",
    "    \n",
    "data = data.sort_values('year_month')\n",
    "\n",
    "data.loc[data['year_month'] == '1914-09-01 00:00:00', 'year_month'] = pd.Timestamp(year=2014, month=9, day=1, hour=0)\n",
    "\n",
    "data.to_csv('/home/midzay/Mlerning/DATASET/proj_news_viz/small/update/iz_jizni_update.csv.bz2',compression='bz2', index=False)"
   ]
  },
  {
   "cell_type": "code",
   "execution_count": 19,
   "metadata": {
    "scrolled": true
   },
   "outputs": [],
   "source": [
    "topic_cols = [col for col in data.columns if 'topic_' in col]\n",
    "a = data.groupby(['year_month'])[topic_cols].mean()#.plot(stacked=True, figsize=(12, 8))"
   ]
  },
  {
   "cell_type": "code",
   "execution_count": 20,
   "metadata": {
    "scrolled": false
   },
   "outputs": [
    {
     "data": {
      "image/png": "[encoded data removed]",
      "text/plain": [
       "<Figure size 864x576 with 1 Axes>"
      ]
     },
     "metadata": {
      "needs_background": "light"
     },
     "output_type": "display_data"
    }
   ],
   "source": [
    "fig, ax = plt.subplots(figsize=(12, 8))\n",
    "ax.stackplot(a.index, a.T.values, labels=list(a.columns))\n",
    "plt.legend(loc='upper right', bbox_to_anchor=(1.2, 1.0))\n",
    "plt.show()"
   ]
  },
  {
   "cell_type": "markdown",
   "metadata": {},
   "source": [
    "### Слова в топиках"
   ]
  },
  {
   "cell_type": "code",
   "execution_count": 21,
   "metadata": {
    "scrolled": true
   },
   "outputs": [
    {
     "data": {
      "text/plain": [
       "[(0,\n",
       "  '0.011*\"конкурс\" + 0.010*\"рекорд\" + 0.009*\"мир\" + 0.006*\"метр\" + 0.005*\"тысяча\" + 0.005*\"участие\" + 0.005*\"день\" + 0.004*\"книга\" + 0.004*\"мисс\" + 0.004*\"участник\"'),\n",
       " (1,\n",
       "  '0.007*\"2017\" + 0.005*\"the\" + 0.004*\"ресторан\" + 0.004*\"заведение\" + 0.004*\"большой\" + 0.004*\"килограмм\" + 0.003*\"издание\" + 0.003*\"тысяча\" + 0.003*\"сеть\" + 0.003*\"житель\"'),\n",
       " (2,\n",
       "  '0.013*\"тысяча\" + 0.011*\"доллар\" + 0.008*\"мужчина\" + 0.006*\"деньга\" + 0.006*\"дом\" + 0.006*\"миллион\" + 0.005*\"штат\" + 0.005*\"около\" + 0.004*\"рубль\" + 0.004*\"полицейский\"'),\n",
       " (3,\n",
       "  '0.010*\"модель\" + 0.009*\"актриса\" + 0.009*\"опубликовать\" + 0.008*\"the\" + 0.007*\"миллион\" + 0.007*\"американский\" + 0.007*\"актёр\" + 0.006*\"журнал\" + 0.005*\"фото\" + 0.005*\"трамп\"'),\n",
       " (4,\n",
       "  '0.006*\"остров\" + 0.004*\"кит\" + 0.004*\"уильямс\" + 0.004*\"россия\" + 0.004*\"российский\" + 0.004*\"власть\" + 0.003*\"австралия\" + 0.003*\"мир\" + 0.003*\"сша\" + 0.003*\"херд\"'),\n",
       " (5,\n",
       "  '0.015*\"ребёнок\" + 0.011*\"женщина\" + 0.008*\"девушка\" + 0.005*\"семья\" + 0.005*\"издание\" + 0.005*\"мужчина\" + 0.005*\"жизнь\" + 0.005*\"сын\" + 0.004*\"дочь\" + 0.004*\"daily\"'),\n",
       " (6,\n",
       "  '0.013*\"опубликовать\" + 0.008*\"ролик\" + 0.008*\"пользователь\" + 0.008*\"видео\" + 0.008*\"фотография\" + 0.007*\"сша\" + 0.007*\"страница\" + 0.006*\"снимка\" + 0.006*\"facebook\" + 0.006*\"соцсеть\"'),\n",
       " (7,\n",
       "  '0.009*\"животное\" + 0.008*\"животный\" + 0.007*\"мужчина\" + 0.005*\"штат\" + 0.005*\"собака\" + 0.005*\"инцидент\" + 0.005*\"житель\" + 0.005*\"произойти\" + 0.004*\"издание\" + 0.004*\"местный\"')]"
      ]
     },
     "execution_count": 21,
     "metadata": {},
     "output_type": "execute_result"
    }
   ],
   "source": [
    "ldamodel1.print_topics()"
   ]
  },
  {
   "cell_type": "markdown",
   "metadata": {},
   "source": [
    "### Топ слова."
   ]
  },
  {
   "cell_type": "code",
   "execution_count": 22,
   "metadata": {},
   "outputs": [
    {
     "data": {
      "application/vnd.jupyter.widget-view+json": {
       "model_id": "6b58d7d7804745e9938bf3e6b5049158",
       "version_major": 2,
       "version_minor": 0
      },
      "text/plain": [
       "HBox(children=(IntProgress(value=0, max=22378), HTML(value='')))"
      ]
     },
     "metadata": {},
     "output_type": "display_data"
    },
    {
     "name": "stdout",
     "output_type": "stream",
     "text": [
      "\n"
     ]
    }
   ],
   "source": [
    "word_counts = {}\n",
    "for s in tqdm_notebook(doc_term_matrix):\n",
    "    for w in s:\n",
    "        if w[0] not in word_counts:\n",
    "            word_counts[w[0]] = w[1]\n",
    "        else:\n",
    "            word_counts[w[0]] += w[1]"
   ]
  },
  {
   "cell_type": "code",
   "execution_count": 23,
   "metadata": {},
   "outputs": [],
   "source": [
    "sorted_word_counts = sorted(word_counts.items(), key=lambda x: x[1], reverse=True)"
   ]
  },
  {
   "cell_type": "code",
   "execution_count": 24,
   "metadata": {},
   "outputs": [
    {
     "name": "stdout",
     "output_type": "stream",
     "text": [
      "тысяча - 8741 times.\n",
      "the - 7558 times.\n",
      "мужчина - 6642 times.\n",
      "доллар - 6465 times.\n",
      "женщина - 6302 times.\n",
      "день - 6297 times.\n",
      "ребёнок - 6081 times.\n",
      "дом - 5740 times.\n",
      "около - 5519 times.\n",
      "штат - 5425 times.\n",
      "житель - 5359 times.\n",
      "издание - 5275 times.\n",
      "животное - 5170 times.\n",
      "писать - 4906 times.\n",
      "сша - 4749 times.\n",
      "место - 4704 times.\n",
      "американский - 4624 times.\n",
      "миллион - 4272 times.\n",
      "daily - 4237 times.\n",
      "местный - 4135 times.\n",
      "решить - 4050 times.\n",
      "большой - 4000 times.\n",
      "сотрудник - 3982 times.\n",
      "британский - 3946 times.\n",
      "животный - 3863 times.\n",
      "мир - 3809 times.\n",
      "сделать - 3779 times.\n",
      "произойти - 3732 times.\n",
      "опубликовать - 3478 times.\n",
      "девушка - 3284 times.\n",
      "найти - 3250 times.\n",
      "помощь - 3170 times.\n",
      "из-за - 3126 times.\n",
      "жизнь - 3077 times.\n",
      "принять - 3036 times.\n",
      "обнаружить - 3034 times.\n",
      "инцидент - 2965 times.\n",
      "семья - 2949 times.\n",
      "новый - 2941 times.\n",
      "сайт - 2897 times.\n",
      "собака - 2848 times.\n",
      "смочь - 2830 times.\n",
      "удаться - 2791 times.\n",
      "news - 2763 times.\n",
      "конкурс - 2749 times.\n",
      "случай - 2724 times.\n",
      "друг - 2709 times.\n",
      "великобритания - 2691 times.\n",
      "пока - 2654 times.\n",
      "вид - 2632 times.\n"
     ]
    }
   ],
   "source": [
    "for w in sorted_word_counts[:50]:\n",
    "    print(f'{dictionary[w[0]]} - {w[1]} times.')"
   ]
  },
  {
   "cell_type": "code",
   "execution_count": null,
   "metadata": {},
   "outputs": [],
   "source": []
  },
  {
   "cell_type": "code",
   "execution_count": null,
   "metadata": {},
   "outputs": [],
   "source": []
  },
  {
   "cell_type": "code",
   "execution_count": null,
   "metadata": {},
   "outputs": [],
   "source": []
  }
 ],
 "metadata": {
  "kernelspec": {
   "display_name": "Python 3",
   "language": "python",
   "name": "python3"
  },
  "language_info": {
   "codemirror_mode": {
    "name": "ipython",
    "version": 3
   },
   "file_extension": ".py",
   "mimetype": "text/x-python",
   "name": "python",
   "nbconvert_exporter": "python",
   "pygments_lexer": "ipython3",
   "version": "3.7.1"
  }
 },
 "nbformat": 4,
 "nbformat_minor": 2
}
