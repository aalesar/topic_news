{
 "cells": [
  {
   "cell_type": "code",
   "execution_count": 1,
   "metadata": {},
   "outputs": [],
   "source": [
    "import pandas as pd \n",
    "import glob "
   ]
  },
  {
   "cell_type": "code",
   "execution_count": null,
   "metadata": {},
   "outputs": [],
   "source": [
    "FileList = glob.glob('*.csv') \n",
    "print(FileList) "
   ]
  },
  {
   "cell_type": "code",
   "execution_count": 8,
   "metadata": {},
   "outputs": [],
   "source": [
    "def splitter(s):\n",
    "    l=[]\n",
    "    t=[]\n",
    "    l=s.split('/')\n",
    "    if l[2]=='www.vesti.ru':return 'NaN'\n",
    "    else:\n",
    "        t=l[2].split('.')\n",
    "        return t[0]"
   ]
  },
  {
   "cell_type": "code",
   "execution_count": 9,
   "metadata": {},
   "outputs": [],
   "source": [
    "def topic_rusplt(fname):\n",
    "   \n",
    "    df = pd.read_csv(fname) \n",
    "    df[['date','URL']]=df[['URL','date']]\n",
    "    \n",
    "    #print(fname)\n",
    "    #print(df['URL'].map(lambda x: x.split('/')).head())\n",
    "    \n",
    "    df['topics'] = df.URL.apply(splitter)\n",
    "    df.to_csv('OUT1/'+fname, encoding='utf-8',index=False)\n",
    "    "
   ]
  },
  {
   "cell_type": "code",
   "execution_count": null,
   "metadata": {},
   "outputs": [],
   "source": [
    "for fname in FileList: \n",
    "    topic_rusplt(fname)"
   ]
  }
 ],
 "metadata": {
  "kernelspec": {
   "display_name": "Python 3",
   "language": "python",
   "name": "python3"
  },
  "language_info": {
   "codemirror_mode": {
    "name": "ipython",
    "version": 3
   },
   "file_extension": ".py",
   "mimetype": "text/x-python",
   "name": "python",
   "nbconvert_exporter": "python",
   "pygments_lexer": "ipython3",
   "version": "3.6.5"
  }
 },
 "nbformat": 4,
 "nbformat_minor": 2
}
