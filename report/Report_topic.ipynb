{
 "cells": [
  {
   "cell_type": "code",
   "execution_count": 41,
   "metadata": {},
   "outputs": [],
   "source": [
    "import numpy as np\n",
    "import pandas as pd\n",
    "import matplotlib.pyplot as plt\n",
    "import warnings\n",
    "warnings.filterwarnings('ignore')\n",
    "%matplotlib inline"
   ]
  },
  {
   "cell_type": "markdown",
   "metadata": {},
   "source": [
    "Задача предсказать тему новости  или рубрику к которой данная новость относится. Для работы был взят файл: lenta.tar.bz2 (https://github.com/buriy/russian-nlp-datasets/releases) .  По сравнению с другими новостными  порталами в этом репозитории,  у lenta.tar.bz2 больше всего разнообразных тем и рубрик, которые можно использовать для  анализа и предсказания в других новостных порталах"
   ]
  },
  {
   "cell_type": "markdown",
   "metadata": {},
   "source": [
    "Датасет lenta.ru выглядит следующим образом:"
   ]
  },
  {
   "cell_type": "code",
   "execution_count": 3,
   "metadata": {},
   "outputs": [
    {
     "name": "stdout",
     "output_type": "stream",
     "text": [
      "(700006, 6)\n"
     ]
    },
    {
     "data": {
      "text/html": [
       "<div>\n",
       "<style scoped>\n",
       "    .dataframe tbody tr th:only-of-type {\n",
       "        vertical-align: middle;\n",
       "    }\n",
       "\n",
       "    .dataframe tbody tr th {\n",
       "        vertical-align: top;\n",
       "    }\n",
       "\n",
       "    .dataframe thead th {\n",
       "        text-align: right;\n",
       "    }\n",
       "</style>\n",
       "<table border=\"1\" class=\"dataframe\">\n",
       "  <thead>\n",
       "    <tr style=\"text-align: right;\">\n",
       "      <th></th>\n",
       "      <th>1914-lenta/</th>\n",
       "      <th>url</th>\n",
       "      <th>edition</th>\n",
       "      <th>topics</th>\n",
       "      <th>title</th>\n",
       "      <th>text</th>\n",
       "    </tr>\n",
       "  </thead>\n",
       "  <tbody>\n",
       "    <tr>\n",
       "      <th>3162</th>\n",
       "      <td>2000-01-10 12:00:00</td>\n",
       "      <td>https://lenta.ru/news/2000/01/10/mir/</td>\n",
       "      <td>NaN</td>\n",
       "      <td>Россия</td>\n",
       "      <td>Космонавты скоро вернутся на \"Мир\"</td>\n",
       "      <td>Станция \"Мир\" снова может стать обитаемой. Сов...</td>\n",
       "    </tr>\n",
       "    <tr>\n",
       "      <th>297782</th>\n",
       "      <td>2009-01-21 12:00:00</td>\n",
       "      <td>https://lenta.ru/news/2009/01/21/wheelman/</td>\n",
       "      <td>NaN</td>\n",
       "      <td>Наука и техника</td>\n",
       "      <td>Игра The Wheelman выйдет не раньше марта</td>\n",
       "      <td>Игра The Wheelman поступит в продажу на месяц ...</td>\n",
       "    </tr>\n",
       "    <tr>\n",
       "      <th>111281</th>\n",
       "      <td>2005-05-24 12:00:00</td>\n",
       "      <td>https://lenta.ru/news/2005/05/24/fleet/</td>\n",
       "      <td>NaN</td>\n",
       "      <td>Наука и техника</td>\n",
       "      <td>Россия начала подготовку к строительству новой...</td>\n",
       "      <td>Независимой газеты. Министерство обороны пока ...</td>\n",
       "    </tr>\n",
       "    <tr>\n",
       "      <th>17403</th>\n",
       "      <td>2000-03-31 12:00:00</td>\n",
       "      <td>https://lenta.ru/news/2000/03/31/hackconf/</td>\n",
       "      <td>NaN</td>\n",
       "      <td>Интернет и СМИ</td>\n",
       "      <td>Съезд хакеров в Израиле: 38% коммерческих сайт...</td>\n",
       "      <td>Несмотря на повышенные меры контроля, около 35...</td>\n",
       "    </tr>\n",
       "    <tr>\n",
       "      <th>105910</th>\n",
       "      <td>2004-01-06 12:00:00</td>\n",
       "      <td>https://lenta.ru/news/2004/01/06/maher/</td>\n",
       "      <td>NaN</td>\n",
       "      <td>Мир</td>\n",
       "      <td>Глава МИД Египта назвал преждевременной информ...</td>\n",
       "      <td>Заявления иранского руководство о возобновлени...</td>\n",
       "    </tr>\n",
       "  </tbody>\n",
       "</table>\n",
       "</div>"
      ],
      "text/plain": [
       "                1914-lenta/                                         url  \\\n",
       "3162    2000-01-10 12:00:00       https://lenta.ru/news/2000/01/10/mir/   \n",
       "297782  2009-01-21 12:00:00  https://lenta.ru/news/2009/01/21/wheelman/   \n",
       "111281  2005-05-24 12:00:00     https://lenta.ru/news/2005/05/24/fleet/   \n",
       "17403   2000-03-31 12:00:00  https://lenta.ru/news/2000/03/31/hackconf/   \n",
       "105910  2004-01-06 12:00:00     https://lenta.ru/news/2004/01/06/maher/   \n",
       "\n",
       "       edition           topics  \\\n",
       "3162       NaN           Россия   \n",
       "297782     NaN  Наука и техника   \n",
       "111281     NaN  Наука и техника   \n",
       "17403      NaN   Интернет и СМИ   \n",
       "105910     NaN              Мир   \n",
       "\n",
       "                                                    title  \\\n",
       "3162                   Космонавты скоро вернутся на \"Мир\"   \n",
       "297782           Игра The Wheelman выйдет не раньше марта   \n",
       "111281  Россия начала подготовку к строительству новой...   \n",
       "17403   Съезд хакеров в Израиле: 38% коммерческих сайт...   \n",
       "105910  Глава МИД Египта назвал преждевременной информ...   \n",
       "\n",
       "                                                     text  \n",
       "3162    Станция \"Мир\" снова может стать обитаемой. Сов...  \n",
       "297782  Игра The Wheelman поступит в продажу на месяц ...  \n",
       "111281  Независимой газеты. Министерство обороны пока ...  \n",
       "17403   Несмотря на повышенные меры контроля, около 35...  \n",
       "105910  Заявления иранского руководство о возобновлени...  "
      ]
     },
     "execution_count": 3,
     "metadata": {},
     "output_type": "execute_result"
    }
   ],
   "source": [
    "data = pd.read_csv('../../../DATASET/lenta.tar.bz2')\n",
    "print(data.shape)\n",
    "data.sample(5)"
   ]
  },
  {
   "cell_type": "code",
   "execution_count": 7,
   "metadata": {},
   "outputs": [
    {
     "data": {
      "text/html": [
       "<div>\n",
       "<style scoped>\n",
       "    .dataframe tbody tr th:only-of-type {\n",
       "        vertical-align: middle;\n",
       "    }\n",
       "\n",
       "    .dataframe tbody tr th {\n",
       "        vertical-align: top;\n",
       "    }\n",
       "\n",
       "    .dataframe thead th {\n",
       "        text-align: right;\n",
       "    }\n",
       "</style>\n",
       "<table border=\"1\" class=\"dataframe\">\n",
       "  <thead>\n",
       "    <tr style=\"text-align: right;\">\n",
       "      <th></th>\n",
       "      <th>date_of_news</th>\n",
       "      <th>topics</th>\n",
       "      <th>text</th>\n",
       "    </tr>\n",
       "  </thead>\n",
       "  <tbody>\n",
       "    <tr>\n",
       "      <th>633484</th>\n",
       "      <td>2017-02-21 12:00:00</td>\n",
       "      <td>Бывший СССР / Белоруссия</td>\n",
       "      <td>В утвержденный Министерством культуры Белорусс...</td>\n",
       "    </tr>\n",
       "    <tr>\n",
       "      <th>622478</th>\n",
       "      <td>2017-08-14 12:00:00</td>\n",
       "      <td>Бывший СССР / Украина</td>\n",
       "      <td>Поезд №073/074 Львов — Москва стал лидером по ...</td>\n",
       "    </tr>\n",
       "    <tr>\n",
       "      <th>188388</th>\n",
       "      <td>2007-11-19 12:00:00</td>\n",
       "      <td>Россия</td>\n",
       "      <td>Житель Тюмени Антон Гребеньков приговорен к ше...</td>\n",
       "    </tr>\n",
       "  </tbody>\n",
       "</table>\n",
       "</div>"
      ],
      "text/plain": [
       "               date_of_news                    topics  \\\n",
       "633484  2017-02-21 12:00:00  Бывший СССР / Белоруссия   \n",
       "622478  2017-08-14 12:00:00     Бывший СССР / Украина   \n",
       "188388  2007-11-19 12:00:00                    Россия   \n",
       "\n",
       "                                                     text  \n",
       "633484  В утвержденный Министерством культуры Белорусс...  \n",
       "622478  Поезд №073/074 Львов — Москва стал лидером по ...  \n",
       "188388  Житель Тюмени Антон Гребеньков приговорен к ше...  "
      ]
     },
     "execution_count": 7,
     "metadata": {},
     "output_type": "execute_result"
    }
   ],
   "source": [
    "# удалим столбцы, которые нам не понадобятся и подправим названия \n",
    "data.drop(['url','edition','title'],axis=1,inplace=True)\n",
    "data.rename(columns={'1914-lenta/':'date_of_news'},inplace=True)\n",
    "data.sample(3)"
   ]
  },
  {
   "cell_type": "code",
   "execution_count": 15,
   "metadata": {},
   "outputs": [
    {
     "data": {
      "text/plain": [
       "date_of_news    False\n",
       "topics          False\n",
       "text            False\n",
       "dtype: bool"
      ]
     },
     "execution_count": 15,
     "metadata": {},
     "output_type": "execute_result"
    }
   ],
   "source": [
    "# Удаляем пустые значения\n",
    "data.dropna(inplace=True)\n",
    "data.isnull().any()\n"
   ]
  },
  {
   "cell_type": "code",
   "execution_count": 24,
   "metadata": {},
   "outputs": [
    {
     "data": {
      "text/html": [
       "<div>\n",
       "<style scoped>\n",
       "    .dataframe tbody tr th:only-of-type {\n",
       "        vertical-align: middle;\n",
       "    }\n",
       "\n",
       "    .dataframe tbody tr th {\n",
       "        vertical-align: top;\n",
       "    }\n",
       "\n",
       "    .dataframe thead th {\n",
       "        text-align: right;\n",
       "    }\n",
       "</style>\n",
       "<table border=\"1\" class=\"dataframe\">\n",
       "  <thead>\n",
       "    <tr style=\"text-align: right;\">\n",
       "      <th></th>\n",
       "      <th>date_of_news</th>\n",
       "      <th>topics</th>\n",
       "      <th>text</th>\n",
       "    </tr>\n",
       "  </thead>\n",
       "  <tbody>\n",
       "    <tr>\n",
       "      <th>65417</th>\n",
       "      <td>2003-lenta/2003-03-lenta.ru.csv</td>\n",
       "      <td>topics</td>\n",
       "      <td>text</td>\n",
       "    </tr>\n",
       "  </tbody>\n",
       "</table>\n",
       "</div>"
      ],
      "text/plain": [
       "                          date_of_news  topics  text\n",
       "65417  2003-lenta/2003-03-lenta.ru.csv  topics  text"
      ]
     },
     "execution_count": 24,
     "metadata": {},
     "output_type": "execute_result"
    }
   ],
   "source": [
    "data[data.topics == 'topics']"
   ]
  },
  {
   "cell_type": "code",
   "execution_count": 27,
   "metadata": {},
   "outputs": [
    {
     "data": {
      "text/html": [
       "<div>\n",
       "<style scoped>\n",
       "    .dataframe tbody tr th:only-of-type {\n",
       "        vertical-align: middle;\n",
       "    }\n",
       "\n",
       "    .dataframe tbody tr th {\n",
       "        vertical-align: top;\n",
       "    }\n",
       "\n",
       "    .dataframe thead th {\n",
       "        text-align: right;\n",
       "    }\n",
       "</style>\n",
       "<table border=\"1\" class=\"dataframe\">\n",
       "  <thead>\n",
       "    <tr style=\"text-align: right;\">\n",
       "      <th></th>\n",
       "      <th>date_of_news</th>\n",
       "      <th>topics</th>\n",
       "      <th>text</th>\n",
       "    </tr>\n",
       "  </thead>\n",
       "  <tbody>\n",
       "  </tbody>\n",
       "</table>\n",
       "</div>"
      ],
      "text/plain": [
       "Empty DataFrame\n",
       "Columns: [date_of_news, topics, text]\n",
       "Index: []"
      ]
     },
     "execution_count": 27,
     "metadata": {},
     "output_type": "execute_result"
    }
   ],
   "source": [
    "#Удаляем некорректные данные \n",
    "data.drop(65417,inplace=True)\n",
    "data[data.topics == 'topics']\n"
   ]
  },
  {
   "cell_type": "code",
   "execution_count": 28,
   "metadata": {},
   "outputs": [
    {
     "data": {
      "text/plain": [
       "(699580, 3)"
      ]
     },
     "execution_count": 28,
     "metadata": {},
     "output_type": "execute_result"
    }
   ],
   "source": [
    "data.shape"
   ]
  },
  {
   "cell_type": "code",
   "execution_count": 29,
   "metadata": {},
   "outputs": [
    {
     "data": {
      "text/plain": [
       "(124,)"
      ]
     },
     "execution_count": 29,
     "metadata": {},
     "output_type": "execute_result"
    }
   ],
   "source": [
    "#Считаем кол-во уникальных тем/рубрик для новостей, которые присутствуют во всем датасете.\n",
    "data.topics.unique().shape"
   ]
  },
  {
   "cell_type": "markdown",
   "metadata": {},
   "source": [
    "Интересно было как поведут себя модели с таким количеством строк и признаков. Хотелось отобрать наиболее подходящие.  Целевой переменной являлся столбец topics(124 уникальных значения).\n",
    "\n",
    "\n",
    "Используя только CountVectorizer()  и разные  размеры обучающей и тестовой выборки  получены следующие результаты: (в скобка X_train размер обучающей выборки и кол-во признаков)\n",
    "\n",
    "Для более понятного восприятия информации из таблицы остановимся чуть более подробно на CountVectorizer()\n",
    "Если в двух словах то класс CountVectorizer используется для подготовки текста и создает так называем \"мешок слов\"(bag-of-words).Создав объект такого класса и применив метод .fit() над текстом мы выполняем следующие действия:\n",
    "1. Проводим токенизацию т.е разбиваем каждую новость на слова с помощью пробелов и знаков пунктуации\n",
    "2. Строим из слов(п.1) словарь. Данный словарь содержит все слова которые встречаются во всех новостях. Слова пронумерованы\n",
    "3. Создаем разряженную матрицу т.е подсчитываем для каждой новости как часто каждое слово из словаря встречается в новости. \n",
    "Слово может встречаться несколько раз, а может не встретится ни разу. Поэтому чем больше слов тем больше кол-во признаков.\n",
    "\n",
    "В таблице ниже представлены следующие данные:\n",
    "\n",
    "- Время - время обучения модели;\n",
    "- Размер DF - размер дата фрейма для обучения и тестирования. (Как видно из таблицы при увеличении  объектов и признаков значительно увеличивается время обучения алгоритма, так например LogisticRegression c  X_train (97941x24193) обучается значительно дольше.  )  \n",
    "- X_test - размер тестовой выборки\n",
    "- X_train - размер обучающей выборки. (Кол-во объектов,  кол-во признаков).  (это размерность нашей разряженной матрицы для обучения.  Как видно чем больше размер дата фрейма , тем больше объектов и  признаков в X_train)\n",
    "\n",
    "- min_df -  параметр в CountVectorizer()  который отвечает  за кол-во вхождений конкретного слова в новости. min_df=20  означает что слово будет добавляться в словарь только если оно используется как минимум в 20 новостях. \n",
    "\n",
    "Так же сейчас нужно обратить внимание на то, что здесь нет ни каких действий по лемматизации текста, т.е нет приведения слова к его словарной форме. слова ехать и ехал  в словаре будут значиться как разные слова.\n",
    "\n",
    " "
   ]
  },
  {
   "cell_type": "code",
   "execution_count": 40,
   "metadata": {},
   "outputs": [
    {
     "data": {
      "text/html": [
       "<div>\n",
       "<style scoped>\n",
       "    .dataframe tbody tr th:only-of-type {\n",
       "        vertical-align: middle;\n",
       "    }\n",
       "\n",
       "    .dataframe tbody tr th {\n",
       "        vertical-align: top;\n",
       "    }\n",
       "\n",
       "    .dataframe thead th {\n",
       "        text-align: right;\n",
       "    }\n",
       "</style>\n",
       "<table border=\"1\" class=\"dataframe\">\n",
       "  <thead>\n",
       "    <tr style=\"text-align: right;\">\n",
       "      <th></th>\n",
       "      <th>Модель</th>\n",
       "      <th>Время</th>\n",
       "      <th>Размер DF</th>\n",
       "      <th>X_test</th>\n",
       "      <th>X_train</th>\n",
       "      <th>TestSize %</th>\n",
       "      <th>min_df</th>\n",
       "      <th>accuracy</th>\n",
       "    </tr>\n",
       "  </thead>\n",
       "  <tbody>\n",
       "    <tr>\n",
       "      <th>0</th>\n",
       "      <td>LogisticRegression</td>\n",
       "      <td>1min 52s</td>\n",
       "      <td>69 958,00</td>\n",
       "      <td>48 970,60</td>\n",
       "      <td>(20987, 10053)</td>\n",
       "      <td>70,00%</td>\n",
       "      <td>20.0</td>\n",
       "      <td>0.6228</td>\n",
       "    </tr>\n",
       "    <tr>\n",
       "      <th>1</th>\n",
       "      <td>LogisticRegression</td>\n",
       "      <td>5min 36s</td>\n",
       "      <td>69 958,00</td>\n",
       "      <td>34 979,00</td>\n",
       "      <td>(34979, 13591)</td>\n",
       "      <td>50,00%</td>\n",
       "      <td>20.0</td>\n",
       "      <td>0.6431</td>\n",
       "    </tr>\n",
       "    <tr>\n",
       "      <th>2</th>\n",
       "      <td>LogisticRegression</td>\n",
       "      <td>&gt;30min</td>\n",
       "      <td>139 916,00</td>\n",
       "      <td>41 974,80</td>\n",
       "      <td>(97941, 24193)</td>\n",
       "      <td>30,00%</td>\n",
       "      <td>20.0</td>\n",
       "      <td>-</td>\n",
       "    </tr>\n",
       "    <tr>\n",
       "      <th>3</th>\n",
       "      <td>-</td>\n",
       "      <td>-</td>\n",
       "      <td>-</td>\n",
       "      <td>-</td>\n",
       "      <td>-</td>\n",
       "      <td>-</td>\n",
       "      <td>-</td>\n",
       "      <td>-</td>\n",
       "    </tr>\n",
       "    <tr>\n",
       "      <th>4</th>\n",
       "      <td>RandomForestClassifier</td>\n",
       "      <td>08s</td>\n",
       "      <td>69 958,00</td>\n",
       "      <td>48 970,60</td>\n",
       "      <td>(20987, 10053)</td>\n",
       "      <td>70,00%</td>\n",
       "      <td>20.0</td>\n",
       "      <td>0.4849</td>\n",
       "    </tr>\n",
       "    <tr>\n",
       "      <th>5</th>\n",
       "      <td>RandomForestClassifier</td>\n",
       "      <td>30.7 s</td>\n",
       "      <td>69 958,00</td>\n",
       "      <td>20 987,40</td>\n",
       "      <td>(48970, 16458)</td>\n",
       "      <td>30,00%</td>\n",
       "      <td>20.0</td>\n",
       "      <td>0.5042</td>\n",
       "    </tr>\n",
       "    <tr>\n",
       "      <th>6</th>\n",
       "      <td>RandomForestClassifier</td>\n",
       "      <td>1min 32s</td>\n",
       "      <td>139 916,00</td>\n",
       "      <td>41 974,80</td>\n",
       "      <td>(97941, 24193)</td>\n",
       "      <td>30,00%</td>\n",
       "      <td>20.0</td>\n",
       "      <td>0.5231</td>\n",
       "    </tr>\n",
       "    <tr>\n",
       "      <th>7</th>\n",
       "      <td>-</td>\n",
       "      <td>-</td>\n",
       "      <td>-</td>\n",
       "      <td>-</td>\n",
       "      <td>-</td>\n",
       "      <td>-</td>\n",
       "      <td>-</td>\n",
       "      <td>-</td>\n",
       "    </tr>\n",
       "    <tr>\n",
       "      <th>8</th>\n",
       "      <td>LinearSVC</td>\n",
       "      <td>2min 46s</td>\n",
       "      <td>139 916,00</td>\n",
       "      <td>41 974,80</td>\n",
       "      <td>(97941, 24193)</td>\n",
       "      <td>30,00%</td>\n",
       "      <td>20.0</td>\n",
       "      <td>0.6241</td>\n",
       "    </tr>\n",
       "    <tr>\n",
       "      <th>9</th>\n",
       "      <td>LinearSVC</td>\n",
       "      <td>1min 25s</td>\n",
       "      <td>139 916,00</td>\n",
       "      <td>69 958,00</td>\n",
       "      <td>(69958, 20075)</td>\n",
       "      <td>50,00%</td>\n",
       "      <td>20.0</td>\n",
       "      <td>0.6461</td>\n",
       "    </tr>\n",
       "    <tr>\n",
       "      <th>10</th>\n",
       "      <td>LinearSVC</td>\n",
       "      <td>1min 35s</td>\n",
       "      <td>139 916,00</td>\n",
       "      <td>41 974,80</td>\n",
       "      <td>(97941, 24193)</td>\n",
       "      <td>30,00%</td>\n",
       "      <td>20.0</td>\n",
       "      <td>0.6967</td>\n",
       "    </tr>\n",
       "    <tr>\n",
       "      <th>11</th>\n",
       "      <td>LinearSVC</td>\n",
       "      <td>37min 37s</td>\n",
       "      <td>699 580,00</td>\n",
       "      <td>209 874,00</td>\n",
       "      <td>(643613, 65351)</td>\n",
       "      <td>30,00%</td>\n",
       "      <td>20.0</td>\n",
       "      <td>0.6894</td>\n",
       "    </tr>\n",
       "    <tr>\n",
       "      <th>12</th>\n",
       "      <td>-</td>\n",
       "      <td>-</td>\n",
       "      <td>-</td>\n",
       "      <td>-</td>\n",
       "      <td>-</td>\n",
       "      <td>-</td>\n",
       "      <td>-</td>\n",
       "      <td>-</td>\n",
       "    </tr>\n",
       "    <tr>\n",
       "      <th>13</th>\n",
       "      <td>GradientBoostingClassifier</td>\n",
       "      <td>&gt;30min</td>\n",
       "      <td>139 916,00</td>\n",
       "      <td>41 974,80</td>\n",
       "      <td>(97941, 24193)</td>\n",
       "      <td>30,00%</td>\n",
       "      <td>20.0</td>\n",
       "      <td>-</td>\n",
       "    </tr>\n",
       "    <tr>\n",
       "      <th>14</th>\n",
       "      <td>GradientBoostingClassifier</td>\n",
       "      <td>&gt;30min</td>\n",
       "      <td>69 958,00</td>\n",
       "      <td>20 987,40</td>\n",
       "      <td>(48970, 16458)</td>\n",
       "      <td>30,00%</td>\n",
       "      <td>20.0</td>\n",
       "      <td>-</td>\n",
       "    </tr>\n",
       "    <tr>\n",
       "      <th>15</th>\n",
       "      <td>GradientBoostingClassifier</td>\n",
       "      <td>&gt;30min</td>\n",
       "      <td>69 958,00</td>\n",
       "      <td>41 974,80</td>\n",
       "      <td>(27983, 7703)</td>\n",
       "      <td>60,00%</td>\n",
       "      <td>40.0</td>\n",
       "      <td>-</td>\n",
       "    </tr>\n",
       "    <tr>\n",
       "      <th>16</th>\n",
       "      <td>-</td>\n",
       "      <td>-</td>\n",
       "      <td>-</td>\n",
       "      <td>-</td>\n",
       "      <td>-</td>\n",
       "      <td>-</td>\n",
       "      <td>-</td>\n",
       "      <td>-</td>\n",
       "    </tr>\n",
       "    <tr>\n",
       "      <th>17</th>\n",
       "      <td>MLPClassifier</td>\n",
       "      <td>4min 51s</td>\n",
       "      <td>69 958,00</td>\n",
       "      <td>41 974,80</td>\n",
       "      <td>(27983, 7703)</td>\n",
       "      <td>60,00%</td>\n",
       "      <td>40.0</td>\n",
       "      <td>0.6369</td>\n",
       "    </tr>\n",
       "    <tr>\n",
       "      <th>18</th>\n",
       "      <td>MLPClassifier</td>\n",
       "      <td>10min 25s</td>\n",
       "      <td>139 916,00</td>\n",
       "      <td>97 941,20</td>\n",
       "      <td>(41974, 15114)</td>\n",
       "      <td>70,00%</td>\n",
       "      <td>20.0</td>\n",
       "      <td>0.6618</td>\n",
       "    </tr>\n",
       "    <tr>\n",
       "      <th>19</th>\n",
       "      <td>MLPClassifier</td>\n",
       "      <td>10min 51s</td>\n",
       "      <td>69 958,00</td>\n",
       "      <td>20 987,40</td>\n",
       "      <td>(48970, 16458)</td>\n",
       "      <td>30,00%</td>\n",
       "      <td>20.0</td>\n",
       "      <td>0.6524</td>\n",
       "    </tr>\n",
       "    <tr>\n",
       "      <th>20</th>\n",
       "      <td>-</td>\n",
       "      <td>-</td>\n",
       "      <td>-</td>\n",
       "      <td>-</td>\n",
       "      <td>-</td>\n",
       "      <td>-</td>\n",
       "      <td>-</td>\n",
       "      <td>-</td>\n",
       "    </tr>\n",
       "    <tr>\n",
       "      <th>21</th>\n",
       "      <td>fasttext</td>\n",
       "      <td>37.5 s</td>\n",
       "      <td>69 958,00</td>\n",
       "      <td>20 987,40</td>\n",
       "      <td>(48970, 16458)</td>\n",
       "      <td>30,00%</td>\n",
       "      <td>-</td>\n",
       "      <td>0.6062</td>\n",
       "    </tr>\n",
       "  </tbody>\n",
       "</table>\n",
       "</div>"
      ],
      "text/plain": [
       "                        Модель      Время   Размер DF      X_test  \\\n",
       "0           LogisticRegression   1min 52s   69 958,00   48 970,60   \n",
       "1           LogisticRegression   5min 36s   69 958,00   34 979,00   \n",
       "2           LogisticRegression     >30min  139 916,00   41 974,80   \n",
       "3                            -          -           -           -   \n",
       "4       RandomForestClassifier        08s   69 958,00   48 970,60   \n",
       "5       RandomForestClassifier     30.7 s   69 958,00   20 987,40   \n",
       "6       RandomForestClassifier   1min 32s  139 916,00   41 974,80   \n",
       "7                            -          -           -           -   \n",
       "8                    LinearSVC   2min 46s  139 916,00   41 974,80   \n",
       "9                    LinearSVC   1min 25s  139 916,00   69 958,00   \n",
       "10                   LinearSVC   1min 35s  139 916,00   41 974,80   \n",
       "11                   LinearSVC  37min 37s  699 580,00  209 874,00   \n",
       "12                           -          -           -           -   \n",
       "13  GradientBoostingClassifier     >30min  139 916,00   41 974,80   \n",
       "14  GradientBoostingClassifier     >30min   69 958,00   20 987,40   \n",
       "15  GradientBoostingClassifier     >30min   69 958,00   41 974,80   \n",
       "16                           -          -           -           -   \n",
       "17               MLPClassifier   4min 51s   69 958,00   41 974,80   \n",
       "18               MLPClassifier  10min 25s  139 916,00   97 941,20   \n",
       "19               MLPClassifier  10min 51s   69 958,00   20 987,40   \n",
       "20                           -          -           -           -   \n",
       "21                    fasttext     37.5 s   69 958,00   20 987,40   \n",
       "\n",
       "            X_train TestSize % min_df accuracy  \n",
       "0    (20987, 10053)     70,00%   20.0   0.6228  \n",
       "1    (34979, 13591)     50,00%   20.0   0.6431  \n",
       "2    (97941, 24193)     30,00%   20.0        -  \n",
       "3                 -          -      -        -  \n",
       "4    (20987, 10053)     70,00%   20.0   0.4849  \n",
       "5    (48970, 16458)     30,00%   20.0   0.5042  \n",
       "6    (97941, 24193)     30,00%   20.0   0.5231  \n",
       "7                 -          -      -        -  \n",
       "8    (97941, 24193)     30,00%   20.0   0.6241  \n",
       "9    (69958, 20075)     50,00%   20.0   0.6461  \n",
       "10   (97941, 24193)     30,00%   20.0   0.6967  \n",
       "11  (643613, 65351)     30,00%   20.0   0.6894  \n",
       "12                -          -      -        -  \n",
       "13   (97941, 24193)     30,00%   20.0        -  \n",
       "14   (48970, 16458)     30,00%   20.0        -  \n",
       "15    (27983, 7703)     60,00%   40.0        -  \n",
       "16                -          -      -        -  \n",
       "17    (27983, 7703)     60,00%   40.0   0.6369  \n",
       "18   (41974, 15114)     70,00%   20.0   0.6618  \n",
       "19   (48970, 16458)     30,00%   20.0   0.6524  \n",
       "20                -          -      -        -  \n",
       "21   (48970, 16458)     30,00%      -   0.6062  "
      ]
     },
     "metadata": {},
     "output_type": "display_data"
    }
   ],
   "source": [
    "sh1 = pd.read_csv('data/sheet1.csv', )\n",
    "display((sh1.head(50)))"
   ]
  },
  {
   "cell_type": "markdown",
   "metadata": {},
   "source": [
    "\n",
    " Для анализа и оценки качества моделей было сделано следующее:\n",
    "\n",
    "   Из  topics были получены  три столбца: short_topic, short_rubric  и topic_rubric, который является копией topics  только без лишних пробелов  возле '/'. \n",
    "   \n",
    "   Новые  столбцы являются различными темами новостей и были получены следующим образом:  в столбец short_topic попала рубрика до '/' из topics. В столбец  short_rubric - рубрика после '/'.  Добавлена колонка year_text - обычный текст новости только текст начинается с года и месяца когда данная новость была опубликована\n",
    "\n",
    "Новости были лемматизированы. (pymorphy2)\n",
    "\n",
    "Из всего датасета были отобраны 235 915 статей , которые имеют  short_topic  и short_rubric.(т.е если у  нас в колонке topics была рубрика из одного солва например \"Россия\"или \"Украина\" она не попала в наш датасет) \n",
    "    \n",
    "Обработанный датасет был сохранен в отдельынй файл."
   ]
  },
  {
   "cell_type": "code",
   "execution_count": 3,
   "metadata": {},
   "outputs": [],
   "source": [
    "data = pd.read_csv('../../../DATASET/topici_i_rubrici_go.csv')"
   ]
  },
  {
   "cell_type": "code",
   "execution_count": 4,
   "metadata": {},
   "outputs": [
    {
     "data": {
      "text/plain": [
       "(235915, 5)"
      ]
     },
     "execution_count": 4,
     "metadata": {},
     "output_type": "execute_result"
    }
   ],
   "source": [
    "# размеры нового файла\n",
    "data.shape"
   ]
  },
  {
   "cell_type": "code",
   "execution_count": 34,
   "metadata": {},
   "outputs": [],
   "source": [
    "from IPython.display import HTML, display\n"
   ]
  },
  {
   "cell_type": "code",
   "execution_count": 35,
   "metadata": {},
   "outputs": [
    {
     "data": {
      "text/html": [
       "<div>\n",
       "<style scoped>\n",
       "    .dataframe tbody tr th:only-of-type {\n",
       "        vertical-align: middle;\n",
       "    }\n",
       "\n",
       "    .dataframe tbody tr th {\n",
       "        vertical-align: top;\n",
       "    }\n",
       "\n",
       "    .dataframe thead th {\n",
       "        text-align: right;\n",
       "    }\n",
       "</style>\n",
       "<table border=\"1\" class=\"dataframe\">\n",
       "  <thead>\n",
       "    <tr style=\"text-align: right;\">\n",
       "      <th></th>\n",
       "      <th>short_topic</th>\n",
       "      <th>short_rubric</th>\n",
       "      <th>topic_rubric</th>\n",
       "      <th>year_text</th>\n",
       "    </tr>\n",
       "  </thead>\n",
       "  <tbody>\n",
       "    <tr>\n",
       "      <th>62262</th>\n",
       "      <td>Бывший СССР</td>\n",
       "      <td>Украина</td>\n",
       "      <td>Бывший СССР/Украина</td>\n",
       "      <td>2014-08 киевский милиция задержать 32 человек ...</td>\n",
       "    </tr>\n",
       "    <tr>\n",
       "      <th>28243</th>\n",
       "      <td>Спорт</td>\n",
       "      <td>Футбол</td>\n",
       "      <td>Спорт/Футбол</td>\n",
       "      <td>2013-05 английский футбольный клуб челси вперв...</td>\n",
       "    </tr>\n",
       "    <tr>\n",
       "      <th>67207</th>\n",
       "      <td>Ценности</td>\n",
       "      <td>Явления</td>\n",
       "      <td>Ценности/Явления</td>\n",
       "      <td>2015-08 супермодель пик карьера который прийти...</td>\n",
       "    </tr>\n",
       "    <tr>\n",
       "      <th>115872</th>\n",
       "      <td>Мир</td>\n",
       "      <td>Общество</td>\n",
       "      <td>Мир/Общество</td>\n",
       "      <td>2016-09 окружение кандидат президент сша хилла...</td>\n",
       "    </tr>\n",
       "    <tr>\n",
       "      <th>106759</th>\n",
       "      <td>Бывший СССР</td>\n",
       "      <td>Украина</td>\n",
       "      <td>Бывший СССР/Украина</td>\n",
       "      <td>2016-06 глава комитет безопасность противодейс...</td>\n",
       "    </tr>\n",
       "  </tbody>\n",
       "</table>\n",
       "</div>"
      ],
      "text/plain": [
       "        short_topic short_rubric         topic_rubric  \\\n",
       "62262   Бывший СССР      Украина  Бывший СССР/Украина   \n",
       "28243         Спорт       Футбол         Спорт/Футбол   \n",
       "67207      Ценности      Явления     Ценности/Явления   \n",
       "115872          Мир     Общество         Мир/Общество   \n",
       "106759  Бывший СССР      Украина  Бывший СССР/Украина   \n",
       "\n",
       "                                                year_text  \n",
       "62262   2014-08 киевский милиция задержать 32 человек ...  \n",
       "28243   2013-05 английский футбольный клуб челси вперв...  \n",
       "67207   2015-08 супермодель пик карьера который прийти...  \n",
       "115872  2016-09 окружение кандидат президент сша хилла...  \n",
       "106759  2016-06 глава комитет безопасность противодейс...  "
      ]
     },
     "metadata": {},
     "output_type": "display_data"
    }
   ],
   "source": [
    "# Новые  темы  и лемматизированный текст\n",
    "display(data[['short_topic','short_rubric','topic_rubric','year_text']].sample(5))"
   ]
  },
  {
   "cell_type": "markdown",
   "metadata": {},
   "source": [
    "Если посмотреть на количество уникальных тем  в каждом столбце мы получим следущую картину:"
   ]
  },
  {
   "cell_type": "code",
   "execution_count": 36,
   "metadata": {},
   "outputs": [
    {
     "name": "stdout",
     "output_type": "stream",
     "text": [
      "уникальных тем short_topic:  18\n",
      "уникальных тем short_rubric: 89\n",
      "уникальных тем topic_rubric:  104\n"
     ]
    }
   ],
   "source": [
    "\n",
    "print (f'уникальных тем short_topic:  {data.short_topic.unique().shape[0]}')\n",
    "print (f'уникальных тем short_rubric: {data.short_rubric.unique().shape[0]}')\n",
    "print (f'уникальных тем topic_rubric:  {data.topic_rubric.unique().shape[0]}')"
   ]
  },
  {
   "cell_type": "markdown",
   "metadata": {},
   "source": [
    "Ну и соответсвенно сами темы:\n"
   ]
  },
  {
   "cell_type": "code",
   "execution_count": 37,
   "metadata": {
    "scrolled": true
   },
   "outputs": [
    {
     "data": {
      "text/plain": [
       "['69-я параллель',\n",
       " 'Библиотека',\n",
       " 'Бизнес',\n",
       " 'Бывший СССР',\n",
       " 'Из жизни',\n",
       " 'Интернет и СМИ',\n",
       " 'Культпросвет',\n",
       " 'Культура',\n",
       " 'Легпром',\n",
       " 'Мир',\n",
       " 'Наука и техника',\n",
       " 'Оружие',\n",
       " 'Путешествия',\n",
       " 'Россия',\n",
       " 'Силовые структуры',\n",
       " 'Спорт',\n",
       " 'Ценности',\n",
       " 'Экономика']"
      ]
     },
     "execution_count": 37,
     "metadata": {},
     "output_type": "execute_result"
    }
   ],
   "source": [
    "sorted(data.short_topic.unique())"
   ]
  },
  {
   "cell_type": "code",
   "execution_count": 38,
   "metadata": {
    "scrolled": true
   },
   "outputs": [
    {
     "data": {
      "text/plain": [
       "['Coцсети',\n",
       " 'Авто',\n",
       " 'Автобизнес',\n",
       " 'Аналитика рынка',\n",
       " 'Белоруссия',\n",
       " 'Бизнес',\n",
       " 'Бокс и ММА',\n",
       " 'Вещи',\n",
       " 'Вирусные ролики',\n",
       " 'Вкусы',\n",
       " 'Внешний вид',\n",
       " 'Вооружение',\n",
       " 'Выборы',\n",
       " 'Гаджеты',\n",
       " 'Госрегулирование',\n",
       " 'Госэкономика',\n",
       " 'Движение',\n",
       " 'Деловой климат',\n",
       " 'Деньги',\n",
       " 'Достижения',\n",
       " 'Еда',\n",
       " 'Жизнь',\n",
       " 'Звери',\n",
       " 'Зимние виды',\n",
       " 'Игры',\n",
       " 'Инновации',\n",
       " 'Инструменты',\n",
       " 'Интернет',\n",
       " 'Искусство',\n",
       " 'История',\n",
       " 'Кавказ',\n",
       " 'Казахстан',\n",
       " 'Катастрофы',\n",
       " 'Киберпреступность',\n",
       " 'Кино',\n",
       " 'Книги',\n",
       " 'Конфликты',\n",
       " 'Космос',\n",
       " 'Криминал',\n",
       " 'Крым',\n",
       " 'Культпросвет',\n",
       " 'Летние виды',\n",
       " 'Люди',\n",
       " 'Мемы',\n",
       " 'Мир',\n",
       " 'Мировой бизнес',\n",
       " 'Мировой опыт',\n",
       " 'Мнения',\n",
       " 'Молдавия',\n",
       " 'Москва',\n",
       " 'Музыка',\n",
       " 'Наследие',\n",
       " 'Наука',\n",
       " 'ОИ-2018',\n",
       " 'Общество',\n",
       " 'Оружие',\n",
       " 'Первая мировая',\n",
       " 'Политика',\n",
       " 'Полиция и спецслужбы',\n",
       " 'Пресса',\n",
       " 'Преступная Россия',\n",
       " 'Преступность',\n",
       " 'Прибалтика',\n",
       " 'Производители',\n",
       " 'Происшествия',\n",
       " 'Регионы',\n",
       " 'Реклама',\n",
       " 'Россия',\n",
       " 'Рынки',\n",
       " 'Следствие и суд',\n",
       " 'События',\n",
       " 'Софт',\n",
       " 'Социальная сфера',\n",
       " 'Средняя Азия',\n",
       " 'Стиль',\n",
       " 'Страноведение',\n",
       " 'ТВ и радио',\n",
       " 'Театр',\n",
       " 'Техника',\n",
       " 'Туризм',\n",
       " 'Украина',\n",
       " 'Финансы компаний',\n",
       " 'Фотография',\n",
       " 'Футбол',\n",
       " 'Хоккей',\n",
       " 'ЧМ-2018',\n",
       " 'Часы',\n",
       " 'Экология',\n",
       " 'Явления']"
      ]
     },
     "execution_count": 38,
     "metadata": {},
     "output_type": "execute_result"
    }
   ],
   "source": [
    "sorted(data.short_rubric.unique())\n"
   ]
  },
  {
   "cell_type": "code",
   "execution_count": 39,
   "metadata": {
    "scrolled": true
   },
   "outputs": [
    {
     "data": {
      "text/plain": [
       "['69-я параллель/Достижения',\n",
       " '69-я параллель/История',\n",
       " '69-я параллель/Люди',\n",
       " '69-я параллель/События',\n",
       " '69-я параллель/Туризм',\n",
       " '69-я параллель/Экология',\n",
       " '69-я параллель/Явления',\n",
       " 'Библиотека/Первая мировая',\n",
       " 'Бизнес/Автобизнес',\n",
       " 'Бизнес/Бизнес',\n",
       " 'Бизнес/Деловой климат',\n",
       " 'Бизнес/Мировой бизнес',\n",
       " 'Бизнес/Финансы компаний',\n",
       " 'Бывший СССР/Белоруссия',\n",
       " 'Бывший СССР/Кавказ',\n",
       " 'Бывший СССР/Казахстан',\n",
       " 'Бывший СССР/Молдавия',\n",
       " 'Бывший СССР/Прибалтика',\n",
       " 'Бывший СССР/Средняя Азия',\n",
       " 'Бывший СССР/Украина',\n",
       " 'Из жизни/Вещи',\n",
       " 'Из жизни/Достижения',\n",
       " 'Из жизни/Еда',\n",
       " 'Из жизни/Звери',\n",
       " 'Из жизни/Люди',\n",
       " 'Из жизни/Происшествия',\n",
       " 'Из жизни/События',\n",
       " 'Интернет и СМИ/Coцсети',\n",
       " 'Интернет и СМИ/Вирусные ролики',\n",
       " 'Интернет и СМИ/Интернет',\n",
       " 'Интернет и СМИ/Киберпреступность',\n",
       " 'Интернет и СМИ/Мемы',\n",
       " 'Интернет и СМИ/Пресса',\n",
       " 'Интернет и СМИ/Реклама',\n",
       " 'Интернет и СМИ/ТВ и радио',\n",
       " 'Культпросвет/Наследие',\n",
       " 'Культпросвет/События',\n",
       " 'Культпросвет/Туризм',\n",
       " 'Культура/Искусство',\n",
       " 'Культура/Кино',\n",
       " 'Культура/Книги',\n",
       " 'Культура/Культпросвет',\n",
       " 'Культура/Музыка',\n",
       " 'Культура/Театр',\n",
       " 'Культура/Фотография',\n",
       " 'Легпром/Аналитика рынка',\n",
       " 'Легпром/Госрегулирование',\n",
       " 'Легпром/Инновации',\n",
       " 'Легпром/Мировой опыт',\n",
       " 'Легпром/Производители',\n",
       " 'Мир/Выборы',\n",
       " 'Мир/Конфликты',\n",
       " 'Мир/Общество',\n",
       " 'Мир/Политика',\n",
       " 'Мир/Преступность',\n",
       " 'Мир/Происшествия',\n",
       " 'Мир/Страноведение',\n",
       " 'Наука и техника/Гаджеты',\n",
       " 'Наука и техника/Жизнь',\n",
       " 'Наука и техника/Игры',\n",
       " 'Наука и техника/История',\n",
       " 'Наука и техника/Космос',\n",
       " 'Наука и техника/Наука',\n",
       " 'Наука и техника/Оружие',\n",
       " 'Наука и техника/Софт',\n",
       " 'Наука и техника/Техника',\n",
       " 'Оружие/Вооружение',\n",
       " 'Путешествия/Вкусы',\n",
       " 'Путешествия/Мир',\n",
       " 'Путешествия/Мнения',\n",
       " 'Путешествия/Происшествия',\n",
       " 'Путешествия/Россия',\n",
       " 'Путешествия/События',\n",
       " 'Россия/Катастрофы',\n",
       " 'Россия/Крым',\n",
       " 'Россия/Москва',\n",
       " 'Россия/Общество',\n",
       " 'Россия/Политика',\n",
       " 'Россия/Происшествия',\n",
       " 'Россия/Регионы',\n",
       " 'Силовые структуры/Криминал',\n",
       " 'Силовые структуры/Полиция и спецслужбы',\n",
       " 'Силовые структуры/Преступная Россия',\n",
       " 'Силовые структуры/Следствие и суд',\n",
       " 'Спорт/Авто',\n",
       " 'Спорт/Бокс и ММА',\n",
       " 'Спорт/Зимние виды',\n",
       " 'Спорт/Летние виды',\n",
       " 'Спорт/ОИ-2018',\n",
       " 'Спорт/Футбол',\n",
       " 'Спорт/Хоккей',\n",
       " 'Спорт/ЧМ-2018',\n",
       " 'Ценности/Внешний вид',\n",
       " 'Ценности/Движение',\n",
       " 'Ценности/Инструменты',\n",
       " 'Ценности/Стиль',\n",
       " 'Ценности/Часы',\n",
       " 'Ценности/Явления',\n",
       " 'Экономика/Бизнес',\n",
       " 'Экономика/Госэкономика',\n",
       " 'Экономика/Деловой климат',\n",
       " 'Экономика/Деньги',\n",
       " 'Экономика/Рынки',\n",
       " 'Экономика/Социальная сфера']"
      ]
     },
     "execution_count": 39,
     "metadata": {},
     "output_type": "execute_result"
    }
   ],
   "source": [
    "sorted(data.topic_rubric.unique())"
   ]
  },
  {
   "cell_type": "markdown",
   "metadata": {},
   "source": [
    "Теперь у нас есть три категории тем. Начнем с short_topic"
   ]
  },
  {
   "cell_type": "code",
   "execution_count": 5,
   "metadata": {},
   "outputs": [],
   "source": [
    "from sklearn.model_selection import train_test_split,cross_val_score,KFold\n",
    "from sklearn.feature_extraction.text import CountVectorizer\n",
    "from sklearn.metrics import accuracy_score\n",
    "from datetime import datetime\n"
   ]
  },
  {
   "cell_type": "code",
   "execution_count": 6,
   "metadata": {},
   "outputs": [
    {
     "data": {
      "text/plain": [
       "((235915, 1), (235915,))"
      ]
     },
     "execution_count": 6,
     "metadata": {},
     "output_type": "execute_result"
    }
   ],
   "source": [
    "X = data[['short_topic','year_text']]\n",
    "y=X.pop('short_topic')\n",
    "X.shape,y.shape"
   ]
  },
  {
   "cell_type": "code",
   "execution_count": 7,
   "metadata": {},
   "outputs": [],
   "source": [
    "# Эта функция  разбивает X и y  на обучающую и тестовую выборки.\n",
    "#Создает объект CountVectorizer(), который  обучается  на (X_train) с помощью метода .fit() \n",
    "# с помощью метода .transform()  мы преобразуем обучающую и тестовую выборки\n",
    "# Так же здесь в метод CountVectorizer() передается параметр ngram_range, о котором не говорилось ранее. \n",
    "\n",
    "def vector_and_massiv(X,y,min_df,test_size=.18):\n",
    "    \n",
    "    X_train,X_test,y_train,y_test = train_test_split(X,y, test_size=test_size,random_state=42,shuffle=True)\n",
    "    vect = CountVectorizer(min_df = min_df,ngram_range=(1,2))\n",
    "    vect.fit(X_train.iloc[:,0])\n",
    "    X_vect_train = vect.transform(X_train.iloc[:,0])\n",
    "    X_vect_test = vect.transform(X_test.iloc[:,0])\n",
    "    return X_vect_train,X_vect_test,y_train,y_test"
   ]
  },
  {
   "cell_type": "code",
   "execution_count": 8,
   "metadata": {},
   "outputs": [
    {
     "name": "stdout",
     "output_type": "stream",
     "text": [
      "CPU times: user 4min 7s, sys: 4.27 s, total: 4min 11s\n",
      "Wall time: 4min 11s\n"
     ]
    }
   ],
   "source": [
    "# запустим функцию\n",
    "%%time\n",
    "X_vect_train,X_vect_test,y_train,y_test = vector_and_massiv(X,y,min_df=40)"
   ]
  },
  {
   "cell_type": "code",
   "execution_count": 43,
   "metadata": {},
   "outputs": [
    {
     "data": {
      "text/plain": [
       "((193450, 90626), (42465, 90626))"
      ]
     },
     "execution_count": 43,
     "metadata": {},
     "output_type": "execute_result"
    }
   ],
   "source": [
    "# Используя ngram_range =(1,2) мы получили намного больше  признаков \n",
    "X_vect_train.shape, X_vect_test.shape"
   ]
  },
  {
   "cell_type": "code",
   "execution_count": 11,
   "metadata": {},
   "outputs": [],
   "source": [
    "from sklearn.svm import LinearSVC\n",
    "svc = LinearSVC(C=0.01)"
   ]
  },
  {
   "cell_type": "code",
   "execution_count": 12,
   "metadata": {},
   "outputs": [
    {
     "name": "stdout",
     "output_type": "stream",
     "text": [
      "CPU times: user 1min 25s, sys: 435 ms, total: 1min 25s\n",
      "Wall time: 1min 25s\n"
     ]
    },
    {
     "data": {
      "text/plain": [
       "LinearSVC(C=0.01, class_weight=None, dual=True, fit_intercept=True,\n",
       "     intercept_scaling=1, loss='squared_hinge', max_iter=1000,\n",
       "     multi_class='ovr', penalty='l2', random_state=None, tol=0.0001,\n",
       "     verbose=0)"
      ]
     },
     "execution_count": 12,
     "metadata": {},
     "output_type": "execute_result"
    }
   ],
   "source": [
    "%%time\n",
    "svc.fit(X_vect_train,y_train)"
   ]
  },
  {
   "cell_type": "code",
   "execution_count": 15,
   "metadata": {},
   "outputs": [
    {
     "data": {
      "text/plain": [
       "0.8785823619451313"
      ]
     },
     "execution_count": 15,
     "metadata": {},
     "output_type": "execute_result"
    }
   ],
   "source": [
    "pred=svc.predict(X_vect_test)\n",
    "accuracy_score(y_test,pred)"
   ]
  },
  {
   "cell_type": "code",
   "execution_count": 42,
   "metadata": {},
   "outputs": [
    {
     "name": "stdout",
     "output_type": "stream",
     "text": [
      "                   precision    recall  f1-score   support\n",
      "\n",
      "   69-я параллель       0.88      0.75      0.81       199\n",
      "       Библиотека       1.00      0.85      0.92        13\n",
      "           Бизнес       0.82      0.73      0.77      1327\n",
      "      Бывший СССР       0.91      0.91      0.91      4061\n",
      "         Из жизни       0.81      0.76      0.79      1947\n",
      "   Интернет и СМИ       0.83      0.80      0.82      2862\n",
      "     Культпросвет       0.62      0.29      0.39        52\n",
      "         Культура       0.90      0.92      0.91      3250\n",
      "          Легпром       0.78      0.70      0.74        10\n",
      "              Мир       0.89      0.92      0.90      7021\n",
      "  Наука и техника       0.92      0.92      0.92      3075\n",
      "           Оружие       0.00      0.00      0.00         1\n",
      "      Путешествия       0.88      0.84      0.86      1096\n",
      "           Россия       0.84      0.86      0.85      7384\n",
      "Силовые структуры       0.81      0.76      0.79      1865\n",
      "            Спорт       0.97      0.98      0.97      3741\n",
      "         Ценности       0.95      0.92      0.93      1236\n",
      "        Экономика       0.86      0.87      0.87      3325\n",
      "\n",
      "      avg / total       0.88      0.88      0.88     42465\n",
      "\n"
     ]
    }
   ],
   "source": [
    "# Сформируем  отчет\n",
    "from sklearn.metrics import classification_report\n",
    "print(classification_report(y_test,pred,digits=2));\n"
   ]
  },
  {
   "cell_type": "markdown",
   "metadata": {},
   "source": [
    "Данный отчет  отображает точность(precision), полноту(recall) и F-меру(F-score). Три важных метрики качества.  \n",
    "Немного остановимся на данных метриках. Для этого сформируем матрицу ошибок и покажем данные метрики на примере."
   ]
  },
  {
   "cell_type": "code",
   "execution_count": 38,
   "metadata": {},
   "outputs": [
    {
     "data": {
      "image/png": "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\n",
      "text/plain": [
       "<Figure size 648x648 with 1 Axes>"
      ]
     },
     "metadata": {
      "needs_background": "light"
     },
     "output_type": "display_data"
    }
   ],
   "source": [
    "# сформирум матрицу ошибок чтобы более наглядно посмотреть на каких метках наш алгоритм ошибается чаще всего.\n",
    "from sklearn.metrics import confusion_matrix\n",
    "import seaborn as sns\n",
    "mat = confusion_matrix(y_test,pred,labels=y_test.unique())\n",
    "plt.figure(figsize=(9, 9))\n",
    "\n",
    "sns.heatmap(mat,square=True,annot=True,cbar=False,cmap=\"YlGnBu\",fmt='d',xticklabels=y_test.unique(), yticklabels=y_test.unique());"
   ]
  },
  {
   "cell_type": "markdown",
   "metadata": {},
   "source": [
    "если воспользоваться формулами то:\n",
    "- precision(точность) = True_Positive /(True_Positive +False_Positive) \n",
    "\n",
    "где  True_Positive- это  значение на пересечении одинаковых меток, а True_Positive + False_Positive -  это сумма значений соответсвующего столбца. \n",
    "  True_Positive -  мы верно предсказали нужную метку.\n",
    "  False_Positive - мы другие метки предсказали как нужные нам.\n",
    " \n",
    "- recall(полнота) = True_Positive /(True_Positive +False_Negative)\n",
    "\n",
    "где  True_Positive- это  так же значение на пересечении одинаковых меток, а True_Positive + False_Negative -  это сумма значений соответсвующей строки\n",
    "\n",
    "False_Negative - мы нужную нам метку предсказали как другие.\n",
    "\n",
<<<<<<< HEAD
    "- F-score = 2* (precision * recall) / (precision + recall) \n",
=======
    "- F-score = (precision * recall) / (precision + recall) \n",
>>>>>>> c78c4886e5196b5b333629eb0d799fcd526d1328
    "\n",
    "F- score представляет собой среднее между точностью и полнотой, но ее труднее интерпритироватьи объяснить\n",
    "\n",
    "для примера возьмем метку \"Культпросвет\"\n",
    "для данной метки:\n",
    "- True_Positive = 15 (на пересении \"Культпросвет\" х \"Культпросвет\")\n",
    "- False_Negative = 37 (строка  \"Культпросвет\" (4 + 1 + 32 = 37) )\n",
    "- False_Positive = 9 (столбец \"Культпросвет\" 8 + 1 = 9)\n",
    "\n",
    "Подставим все данные в формулы: \n",
    "\n",
    "- precision = 15 /(15+9) = 0.62\n",
    "- recall = 15/ (15+37) = 0.29"
   ]
  },
  {
   "cell_type": "markdown",
   "metadata": {},
   "source": [
    "Мы видим что алгоримт ошибается\n"
   ]
  },
  {
   "cell_type": "markdown",
   "metadata": {},
   "source": []
  },
  {
   "cell_type": "code",
   "execution_count": null,
   "metadata": {},
   "outputs": [],
   "source": []
  },
  {
   "cell_type": "code",
   "execution_count": null,
   "metadata": {},
   "outputs": [],
   "source": []
  }
 ],
 "metadata": {
  "kernelspec": {
   "display_name": "Python 3",
   "language": "python",
   "name": "python3"
  },
  "language_info": {
   "codemirror_mode": {
    "name": "ipython",
    "version": 3
   },
   "file_extension": ".py",
   "mimetype": "text/x-python",
   "name": "python",
   "nbconvert_exporter": "python",
   "pygments_lexer": "ipython3",
   "version": "3.7.0"
  }
 },
 "nbformat": 4,
 "nbformat_minor": 2
}
